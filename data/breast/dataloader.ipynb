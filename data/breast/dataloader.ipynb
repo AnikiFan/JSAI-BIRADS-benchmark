{
 "cells": [
  {
   "cell_type": "code",
   "execution_count": 1,
   "metadata": {
    "scrolled": true
   },
   "outputs": [
    {
     "name": "stdout",
     "output_type": "stream",
     "text": [
      "3.9.13 (main, Aug 25 2022, 23:51:50) [MSC v.1916 64 bit (AMD64)]\n",
      "D:\\anaconda\\python.exe\n",
      "['ImpImporter', 'ImpLoader', 'ModuleInfo', 'ModuleType', '_NAME_PATTERN', '__all__', '__builtins__', '__cached__', '__doc__', '__file__', '__loader__', '__name__', '__package__', '__spec__', '_get_spec', '_import_imp', '_iter_file_finder_modules', 'extend_path', 'find_loader', 'get_data', 'get_importer', 'get_loader', 'importlib', 'iter_importer_modules', 'iter_importers', 'iter_modules', 'iter_zipimport_modules', 'namedtuple', 'os', 're', 'read_code', 'resolve_name', 'simplegeneric', 'sys', 'walk_packages', 'warnings', 'zipimport', 'zipimporter']\n"
     ]
    }
   ],
   "source": [
    "import sys\n",
    "print(sys.version)\n",
    "print(sys.executable)\n",
    "import pkgutil\n",
    "print(dir(pkgutil))"
   ]
  },
  {
   "cell_type": "code",
   "execution_count": 2,
   "metadata": {},
   "outputs": [],
   "source": [
    "import collections\n",
    "import random\n",
    "import math\n",
    "import os\n",
    "import shutil\n",
    "import pandas as pd\n",
    "import torch \n",
    "import torchvision\n",
    "from torch import nn\n",
    "from d2l import torch as d2l"
   ]
  },
  {
   "cell_type": "code",
   "execution_count": 3,
   "metadata": {},
   "outputs": [],
   "source": [
    "# 示例路径\n",
    "dest_dir = r'C:\\Users\\29180\\Desktop\\超声乳腺影像的BIRADS分类及特征识别\\train_valid_test'\n",
    "train_dir = r'C:\\Users\\29180\\Desktop\\超声乳腺影像的BIRADS分类及特征识别\\超声乳腺训练数据+测试集A+说明文档\\乳腺分类训练数据集\\train'\n",
    "test_dir = r'C:\\Users\\29180\\Desktop\\超声乳腺影像的BIRADS分类及特征识别\\超声乳腺训练数据+测试集A+说明文档\\test_A\\乳腺分类测试集A\\A'"
   ]
  },
  {
   "cell_type": "code",
   "execution_count": 4,
   "metadata": {},
   "outputs": [],
   "source": [
    "def copy_file(src_file, dest_dir):\n",
    "    \"\"\"将文件复制到目标目录\"\"\"\n",
    "    os.makedirs(dest_dir, exist_ok=True)\n",
    "    shutil.copy(src_file, dest_dir)"
   ]
  },
  {
   "cell_type": "code",
   "execution_count": 5,
   "metadata": {},
   "outputs": [],
   "source": [
    "def organize_train_valid(train_dir, dest_dir, valid_ratio):\n",
    "    \"\"\"组织训练集和验证集\"\"\"\n",
    "    # 创建目标目录结构\n",
    "    train_dest_dir = os.path.join(dest_dir, 'train')\n",
    "    train_valid_dest_dir = os.path.join(dest_dir, 'train_valid')\n",
    "    valid_dest_dir = os.path.join(dest_dir, 'valid')\n",
    "    \n",
    "    os.makedirs(train_dest_dir, exist_ok=True)\n",
    "    os.makedirs(train_valid_dest_dir, exist_ok=True)\n",
    "    os.makedirs(valid_dest_dir, exist_ok=True)\n",
    "    \n",
    "    for class_name in os.listdir(train_dir):\n",
    "        class_images_dir = os.path.join(train_dir, class_name, 'images')\n",
    "        if not os.path.exists(class_images_dir):\n",
    "            continue\n",
    "        \n",
    "        images = os.listdir(class_images_dir)\n",
    "        num_valid = max(1, math.floor(len(images) * valid_ratio))\n",
    "        \n",
    "        # 随机选择部分图像作为验证集\n",
    "        valid_images = random.sample(images, num_valid)\n",
    "        \n",
    "        for image_name in images:\n",
    "            src_image_path = os.path.join(class_images_dir, image_name)\n",
    "            # 复制到 train_valid 文件夹\n",
    "            copy_file(src_image_path, os.path.join(train_valid_dest_dir, class_name))\n",
    "            # 复制到 valid 或 train 文件夹\n",
    "            if image_name in valid_images:\n",
    "                copy_file(src_image_path, os.path.join(valid_dest_dir, class_name))\n",
    "            else:\n",
    "                copy_file(src_image_path, os.path.join(train_dest_dir, class_name))"
   ]
  },
  {
   "cell_type": "code",
   "execution_count": 6,
   "metadata": {},
   "outputs": [],
   "source": [
    "def organize_test(test_dir, dest_dir):\n",
    "    \"\"\"组织测试集\"\"\"\n",
    "    test_dest_dir = os.path.join(dest_dir, 'test', 'unknown')\n",
    "    os.makedirs(test_dest_dir, exist_ok=True)\n",
    "    \n",
    "    for class_name in os.listdir(test_dir):\n",
    "        class_images_dir = os.path.join(test_dir, class_name, 'images')\n",
    "        if not os.path.exists(class_images_dir):\n",
    "            continue\n",
    "        \n",
    "        for image_name in os.listdir(class_images_dir):\n",
    "            src_image_path = os.path.join(class_images_dir, image_name)\n",
    "            copy_file(src_image_path, test_dest_dir)"
   ]
  },
  {
   "cell_type": "code",
   "execution_count": 7,
   "metadata": {},
   "outputs": [],
   "source": [
    "def reorg_data(train_dir, test_dir, dest_dir, valid_ratio=0.1):\n",
    "    \"\"\"调用上面的函数，组织训练集、验证集和测试集\"\"\"\n",
    "    organize_train_valid(train_dir, dest_dir, valid_ratio)\n",
    "    organize_test(test_dir, dest_dir)\n",
    "    \n",
    "reorg_data(train_dir, test_dir, dest_dir, valid_ratio=0.1)"
   ]
  },
  {
   "cell_type": "code",
   "execution_count": 8,
   "metadata": {},
   "outputs": [],
   "source": [
    "# 图像增广\n",
    "transform_train = torchvision.transforms.Compose([\n",
    "    torchvision.transforms.Resize(40),  # 缩放到 40x40 像素\n",
    "    torchvision.transforms.RandomResizedCrop(32, scale=(0.64, 1.0), ratio=(1.0, 1.0)),  # 随机裁剪并缩放到 32x32\n",
    "    torchvision.transforms.RandomHorizontalFlip(),  # 随机水平翻转\n",
    "    torchvision.transforms.RandomVerticalFlip(),  # 随机垂直翻转\n",
    "    torchvision.transforms.RandomRotation(degrees=30),  # 随机旋转 -30 到 30 度\n",
    "    torchvision.transforms.RandomAffine(degrees=0, translate=(0.1, 0.1)),  # 随机平移\n",
    "    torchvision.transforms.RandomPerspective(distortion_scale=0.5, p=0.5),  # 随机网格畸变\n",
    "    torchvision.transforms.ToTensor(),  # 转换为张量\n",
    "    torchvision.transforms.Normalize([0.4914, 0.4822, 0.4465], [0.2023, 0.1994, 0.2010])  # 归一化\n",
    "])\n",
    "\n",
    "transform_test = torchvision.transforms.Compose([\n",
    "    torchvision.transforms.ToTensor(),\n",
    "    torchvision.transforms.Normalize([0.4914,0.4822,0.4465],\n",
    "                                    [0.2023,0.1994,0.2010]) ])"
   ]
  },
  {
   "cell_type": "code",
   "execution_count": 9,
   "metadata": {},
   "outputs": [],
   "source": [
    "# 使用 ImageFolder 加载数据集\n",
    "train_ds, train_valid_ds = [\n",
    "    torchvision.datasets.ImageFolder(\n",
    "        os.path.join(dest_dir, folder),\n",
    "        transform=transform_train) for folder in ['train', 'train_valid']\n",
    "]\n",
    "\n",
    "valid_ds, test_ds = [\n",
    "    torchvision.datasets.ImageFolder(\n",
    "        os.path.join(dest_dir, folder),\n",
    "        transform=transform_test) for folder in ['valid', 'test']\n",
    "]\n"
   ]
  },
  {
   "cell_type": "code",
   "execution_count": null,
   "metadata": {},
   "outputs": [],
   "source": []
  }
 ],
 "metadata": {
  "kernelspec": {
   "display_name": "Python 3 (ipykernel)",
   "language": "python",
   "name": "python3"
  },
  "language_info": {
   "codemirror_mode": {
    "name": "ipython",
    "version": 3
   },
   "file_extension": ".py",
   "mimetype": "text/x-python",
   "name": "python",
   "nbconvert_exporter": "python",
   "pygments_lexer": "ipython3",
   "version": "3.11.7"
  }
 },
 "nbformat": 4,
 "nbformat_minor": 4
}
