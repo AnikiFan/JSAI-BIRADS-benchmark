{
 "cells": [
  {
   "cell_type": "code",
   "execution_count": 1,
   "metadata": {},
   "outputs": [],
   "source": [
    "from utils.claTestSetOrganize2 import generate_image_label_csv, check_multiple_labels\n",
    "import os\n",
    "import sys\n",
    "import argparse\n",
    "import pandas as pd"
   ]
  },
  {
   "cell_type": "code",
   "execution_count": 2,
   "metadata": {},
   "outputs": [],
   "source": [
    "import os\n",
    "import torch\n",
    "import pandas as pd\n",
    "import torchvision.transforms as transforms\n",
    "from torch.utils.data import Dataset, DataLoader\n",
    "from PIL import Image\n",
    "from tqdm import tqdm\n",
    "from datetime import datetime\n",
    "\n",
    "# 导入您项目中的自定义模块和类\n",
    "from models.UnetClassifer.unet import UnetClassifier\n",
    "from models.model4compare.AlexNet import AlexNet\n",
    "from models.model4compare.GoogleNet import GoogleNet\n",
    "from models.model4compare.VGG import VGG\n",
    "from models.model4compare.NiN import NiN\n",
    "# from TDSNet.TDSNet import TDSNet\n",
    "\n",
    "from utils.tools import create_transforms  # 确保这个函数可用\n",
    "from utils.MyBlock.MyCrop import MyCrop\n",
    "from utils.PILResize import PILResize\n",
    "\n",
    "import json"
   ]
  },
  {
   "cell_type": "code",
   "execution_count": 3,
   "metadata": {},
   "outputs": [],
   "source": [
    "from test_cla import BreastTestDataset, modelSelector, check_breast_test_dataset, verify_breast_test_dataset\n",
    "from utils.evaluate import load_data, compute_metrics, get_classification_report_df,evaluate_predictions"
   ]
  },
  {
   "cell_type": "code",
   "execution_count": 4,
   "metadata": {},
   "outputs": [
    {
     "name": "stdout",
     "output_type": "stream",
     "text": [
      "{'transform_train': {'MyCrop': {}, 'Resize': {'size': [256, 256]}, 'ToTensor': {}, 'Normalize': {'mean': [0.4914, 0.4822, 0.4465], 'std': [0.2023, 0.1994, 0.201]}}, 'transform_test': {'MyCrop': {}, 'Resize': {'size': [256, 256]}, 'ToTensor': {}, 'Normalize': {'mean': [0.4914, 0.4822, 0.4465], 'std': [0.2023, 0.1994, 0.201]}}}\n"
     ]
    }
   ],
   "source": [
    "# 定义测试配置字典\n",
    "test_cfg = {\n",
    "    \"model\": \"Unet\",  # 模型选择，与训练时相同\n",
    "    \"data\": \"Breast\",  # 数据集选择\n",
    "    \"csv_path\": \"/Users/huiyangzheng/Desktop/Project/Competition/GCAIAEC2024/AIC/TDS-Net/data/test_A/乳腺分类测试集A/A/test.csv\",  # 测试CSV文件路径\n",
    "    \"images_dir\": \"/Users/huiyangzheng/Desktop/Project/Competition/GCAIAEC2024/AIC/TDS-Net/data/test_A/乳腺分类测试集A/A\",  # 测试图片根目录\n",
    "    \"checkpoint_path\": \"/Users/huiyangzheng/Downloads/Unet_Breast_20240922_133607/model/Unet_best.pth\",  # 模型检查点路径\n",
    "    \"transforms_cfg_path\": \"/Users/huiyangzheng/Downloads/Unet_Breast_20240922_133607/transforms_cfg.json\",\n",
    "    \"output_csv\": \"/Users/huiyangzheng/Desktop/Project/Competition/GCAIAEC2024/AIC/TDS-Net/data/test_A/乳腺分类测试集A/A/test_predictions.csv\",  # 输出预测结果CSV文件路径\n",
    "    \"batch_size\": 16,  # 测试时的批处理大小\n",
    "    \"num_workers\": 2,  # 数据加载器的工作进程数量\n",
    "    \"device\": \"cuda\" if torch.cuda.is_available() else \"cpu\",  # 设备选择\n",
    "    \"transforms_cfg\": {\n",
    "        \"transform_test\": {\n",
    "            \"PILResize\": {\"size\": (400, 400)},\n",
    "            \"MyCrop\": {}, \n",
    "            \"ToTensor\": {},\n",
    "            \"Normalize\": {\n",
    "                \"mean\": [0.4914, 0.4822, 0.4465],\n",
    "                \"std\": [0.2023, 0.1994, 0.2010],\n",
    "            },\n",
    "        },\n",
    "    },\n",
    "    \"custom_transforms\": {\n",
    "        'MyCrop': MyCrop,\n",
    "        'PILResize': PILResize\n",
    "    },\n",
    "    \"num_classes\": 6,  # 类别数量，根据您的实际情况设置\n",
    "    \"class_names\": ['2类', '3类', '4A类', '4B类', '4C类', '5类'],  # 类别名称列表\n",
    "}\n",
    "\n",
    "#根据transform_cfg_path读取transforms_cfg\n",
    "with open(test_cfg[\"transforms_cfg_path\"], \"r\") as f:\n",
    "    test_cfg[\"transforms_cfg\"] = json.load(f)\n",
    "print(test_cfg[\"transforms_cfg\"])\n",
    "\n"
   ]
  },
  {
   "cell_type": "code",
   "execution_count": 5,
   "metadata": {},
   "outputs": [
    {
     "name": "stdout",
     "output_type": "stream",
     "text": [
      "最大标签数：3\n",
      "CSV 文件已生成：/Users/huiyangzheng/Desktop/Project/Competition/GCAIAEC2024/AIC/TDS-Net/data/test_A/乳腺分类测试集A/A/test.csv\n"
     ]
    },
    {
     "data": {
      "text/html": [
       "<div>\n",
       "<style scoped>\n",
       "    .dataframe tbody tr th:only-of-type {\n",
       "        vertical-align: middle;\n",
       "    }\n",
       "\n",
       "    .dataframe tbody tr th {\n",
       "        vertical-align: top;\n",
       "    }\n",
       "\n",
       "    .dataframe thead th {\n",
       "        text-align: right;\n",
       "    }\n",
       "</style>\n",
       "<table border=\"1\" class=\"dataframe\">\n",
       "  <thead>\n",
       "    <tr style=\"text-align: right;\">\n",
       "      <th></th>\n",
       "      <th>image_name</th>\n",
       "      <th>category</th>\n",
       "      <th>class_1</th>\n",
       "      <th>x_1</th>\n",
       "      <th>y_1</th>\n",
       "      <th>w_1</th>\n",
       "      <th>h_1</th>\n",
       "      <th>class_2</th>\n",
       "      <th>x_2</th>\n",
       "      <th>y_2</th>\n",
       "      <th>w_2</th>\n",
       "      <th>h_2</th>\n",
       "      <th>class_3</th>\n",
       "      <th>x_3</th>\n",
       "      <th>y_3</th>\n",
       "      <th>w_3</th>\n",
       "      <th>h_3</th>\n",
       "    </tr>\n",
       "  </thead>\n",
       "  <tbody>\n",
       "    <tr>\n",
       "      <th>0</th>\n",
       "      <td>BUSI_0645.png</td>\n",
       "      <td>5类</td>\n",
       "      <td>6</td>\n",
       "      <td>0.515009</td>\n",
       "      <td>0.368107</td>\n",
       "      <td>0.440995</td>\n",
       "      <td>0.386831</td>\n",
       "      <td>NaN</td>\n",
       "      <td>NaN</td>\n",
       "      <td>NaN</td>\n",
       "      <td>NaN</td>\n",
       "      <td>NaN</td>\n",
       "      <td>NaN</td>\n",
       "      <td>NaN</td>\n",
       "      <td>NaN</td>\n",
       "      <td>NaN</td>\n",
       "      <td>NaN</td>\n",
       "    </tr>\n",
       "    <tr>\n",
       "      <th>1</th>\n",
       "      <td>hcjz_birads5_0024_0030.jpg</td>\n",
       "      <td>5类</td>\n",
       "      <td>6</td>\n",
       "      <td>0.523203</td>\n",
       "      <td>0.275677</td>\n",
       "      <td>0.394529</td>\n",
       "      <td>0.345650</td>\n",
       "      <td>NaN</td>\n",
       "      <td>NaN</td>\n",
       "      <td>NaN</td>\n",
       "      <td>NaN</td>\n",
       "      <td>NaN</td>\n",
       "      <td>NaN</td>\n",
       "      <td>NaN</td>\n",
       "      <td>NaN</td>\n",
       "      <td>NaN</td>\n",
       "      <td>NaN</td>\n",
       "    </tr>\n",
       "    <tr>\n",
       "      <th>2</th>\n",
       "      <td>fou_0109.jpg</td>\n",
       "      <td>5类</td>\n",
       "      <td>6</td>\n",
       "      <td>0.464884</td>\n",
       "      <td>0.538316</td>\n",
       "      <td>0.282603</td>\n",
       "      <td>0.380641</td>\n",
       "      <td>NaN</td>\n",
       "      <td>NaN</td>\n",
       "      <td>NaN</td>\n",
       "      <td>NaN</td>\n",
       "      <td>NaN</td>\n",
       "      <td>NaN</td>\n",
       "      <td>NaN</td>\n",
       "      <td>NaN</td>\n",
       "      <td>NaN</td>\n",
       "      <td>NaN</td>\n",
       "    </tr>\n",
       "    <tr>\n",
       "      <th>3</th>\n",
       "      <td>hcjz_birads5_0031_0112.jpg</td>\n",
       "      <td>5类</td>\n",
       "      <td>6</td>\n",
       "      <td>0.478748</td>\n",
       "      <td>0.490410</td>\n",
       "      <td>0.435471</td>\n",
       "      <td>0.437307</td>\n",
       "      <td>NaN</td>\n",
       "      <td>NaN</td>\n",
       "      <td>NaN</td>\n",
       "      <td>NaN</td>\n",
       "      <td>NaN</td>\n",
       "      <td>NaN</td>\n",
       "      <td>NaN</td>\n",
       "      <td>NaN</td>\n",
       "      <td>NaN</td>\n",
       "      <td>NaN</td>\n",
       "    </tr>\n",
       "    <tr>\n",
       "      <th>4</th>\n",
       "      <td>hcjz_birads4C_0078_0012.jpg</td>\n",
       "      <td>5类</td>\n",
       "      <td>6</td>\n",
       "      <td>0.464362</td>\n",
       "      <td>0.387806</td>\n",
       "      <td>0.423532</td>\n",
       "      <td>0.345570</td>\n",
       "      <td>NaN</td>\n",
       "      <td>NaN</td>\n",
       "      <td>NaN</td>\n",
       "      <td>NaN</td>\n",
       "      <td>NaN</td>\n",
       "      <td>NaN</td>\n",
       "      <td>NaN</td>\n",
       "      <td>NaN</td>\n",
       "      <td>NaN</td>\n",
       "      <td>NaN</td>\n",
       "    </tr>\n",
       "    <tr>\n",
       "      <th>...</th>\n",
       "      <td>...</td>\n",
       "      <td>...</td>\n",
       "      <td>...</td>\n",
       "      <td>...</td>\n",
       "      <td>...</td>\n",
       "      <td>...</td>\n",
       "      <td>...</td>\n",
       "      <td>...</td>\n",
       "      <td>...</td>\n",
       "      <td>...</td>\n",
       "      <td>...</td>\n",
       "      <td>...</td>\n",
       "      <td>...</td>\n",
       "      <td>...</td>\n",
       "      <td>...</td>\n",
       "      <td>...</td>\n",
       "      <td>...</td>\n",
       "    </tr>\n",
       "    <tr>\n",
       "      <th>666</th>\n",
       "      <td>hcjz_birads4C_0054_0007.jpg</td>\n",
       "      <td>4C类</td>\n",
       "      <td>5</td>\n",
       "      <td>0.524220</td>\n",
       "      <td>0.385657</td>\n",
       "      <td>0.189744</td>\n",
       "      <td>0.434021</td>\n",
       "      <td>NaN</td>\n",
       "      <td>NaN</td>\n",
       "      <td>NaN</td>\n",
       "      <td>NaN</td>\n",
       "      <td>NaN</td>\n",
       "      <td>NaN</td>\n",
       "      <td>NaN</td>\n",
       "      <td>NaN</td>\n",
       "      <td>NaN</td>\n",
       "      <td>NaN</td>\n",
       "    </tr>\n",
       "    <tr>\n",
       "      <th>667</th>\n",
       "      <td>hcjz_birads3_01050_0010.jpg</td>\n",
       "      <td>4C类</td>\n",
       "      <td>5</td>\n",
       "      <td>0.540506</td>\n",
       "      <td>0.270723</td>\n",
       "      <td>0.369648</td>\n",
       "      <td>0.242170</td>\n",
       "      <td>NaN</td>\n",
       "      <td>NaN</td>\n",
       "      <td>NaN</td>\n",
       "      <td>NaN</td>\n",
       "      <td>NaN</td>\n",
       "      <td>NaN</td>\n",
       "      <td>NaN</td>\n",
       "      <td>NaN</td>\n",
       "      <td>NaN</td>\n",
       "      <td>NaN</td>\n",
       "    </tr>\n",
       "    <tr>\n",
       "      <th>668</th>\n",
       "      <td>0526.jpg</td>\n",
       "      <td>4C类</td>\n",
       "      <td>5</td>\n",
       "      <td>0.565058</td>\n",
       "      <td>0.421222</td>\n",
       "      <td>0.326972</td>\n",
       "      <td>0.373454</td>\n",
       "      <td>NaN</td>\n",
       "      <td>NaN</td>\n",
       "      <td>NaN</td>\n",
       "      <td>NaN</td>\n",
       "      <td>NaN</td>\n",
       "      <td>NaN</td>\n",
       "      <td>NaN</td>\n",
       "      <td>NaN</td>\n",
       "      <td>NaN</td>\n",
       "      <td>NaN</td>\n",
       "    </tr>\n",
       "    <tr>\n",
       "      <th>669</th>\n",
       "      <td>hcjz_birads4C_0055_0003.jpg</td>\n",
       "      <td>4C类</td>\n",
       "      <td>5</td>\n",
       "      <td>0.380517</td>\n",
       "      <td>0.339388</td>\n",
       "      <td>0.196006</td>\n",
       "      <td>0.191846</td>\n",
       "      <td>NaN</td>\n",
       "      <td>NaN</td>\n",
       "      <td>NaN</td>\n",
       "      <td>NaN</td>\n",
       "      <td>NaN</td>\n",
       "      <td>NaN</td>\n",
       "      <td>NaN</td>\n",
       "      <td>NaN</td>\n",
       "      <td>NaN</td>\n",
       "      <td>NaN</td>\n",
       "    </tr>\n",
       "    <tr>\n",
       "      <th>670</th>\n",
       "      <td>0727.jpg</td>\n",
       "      <td>4C类</td>\n",
       "      <td>5</td>\n",
       "      <td>0.550219</td>\n",
       "      <td>0.424960</td>\n",
       "      <td>0.285206</td>\n",
       "      <td>0.303597</td>\n",
       "      <td>NaN</td>\n",
       "      <td>NaN</td>\n",
       "      <td>NaN</td>\n",
       "      <td>NaN</td>\n",
       "      <td>NaN</td>\n",
       "      <td>NaN</td>\n",
       "      <td>NaN</td>\n",
       "      <td>NaN</td>\n",
       "      <td>NaN</td>\n",
       "      <td>NaN</td>\n",
       "    </tr>\n",
       "  </tbody>\n",
       "</table>\n",
       "<p>671 rows × 17 columns</p>\n",
       "</div>"
      ],
      "text/plain": [
       "                      image_name category  class_1       x_1       y_1  \\\n",
       "0                  BUSI_0645.png       5类        6  0.515009  0.368107   \n",
       "1     hcjz_birads5_0024_0030.jpg       5类        6  0.523203  0.275677   \n",
       "2                   fou_0109.jpg       5类        6  0.464884  0.538316   \n",
       "3     hcjz_birads5_0031_0112.jpg       5类        6  0.478748  0.490410   \n",
       "4    hcjz_birads4C_0078_0012.jpg       5类        6  0.464362  0.387806   \n",
       "..                           ...      ...      ...       ...       ...   \n",
       "666  hcjz_birads4C_0054_0007.jpg      4C类        5  0.524220  0.385657   \n",
       "667  hcjz_birads3_01050_0010.jpg      4C类        5  0.540506  0.270723   \n",
       "668                     0526.jpg      4C类        5  0.565058  0.421222   \n",
       "669  hcjz_birads4C_0055_0003.jpg      4C类        5  0.380517  0.339388   \n",
       "670                     0727.jpg      4C类        5  0.550219  0.424960   \n",
       "\n",
       "          w_1       h_1  class_2  x_2  y_2  w_2  h_2  class_3  x_3  y_3  w_3  \\\n",
       "0    0.440995  0.386831      NaN  NaN  NaN  NaN  NaN      NaN  NaN  NaN  NaN   \n",
       "1    0.394529  0.345650      NaN  NaN  NaN  NaN  NaN      NaN  NaN  NaN  NaN   \n",
       "2    0.282603  0.380641      NaN  NaN  NaN  NaN  NaN      NaN  NaN  NaN  NaN   \n",
       "3    0.435471  0.437307      NaN  NaN  NaN  NaN  NaN      NaN  NaN  NaN  NaN   \n",
       "4    0.423532  0.345570      NaN  NaN  NaN  NaN  NaN      NaN  NaN  NaN  NaN   \n",
       "..        ...       ...      ...  ...  ...  ...  ...      ...  ...  ...  ...   \n",
       "666  0.189744  0.434021      NaN  NaN  NaN  NaN  NaN      NaN  NaN  NaN  NaN   \n",
       "667  0.369648  0.242170      NaN  NaN  NaN  NaN  NaN      NaN  NaN  NaN  NaN   \n",
       "668  0.326972  0.373454      NaN  NaN  NaN  NaN  NaN      NaN  NaN  NaN  NaN   \n",
       "669  0.196006  0.191846      NaN  NaN  NaN  NaN  NaN      NaN  NaN  NaN  NaN   \n",
       "670  0.285206  0.303597      NaN  NaN  NaN  NaN  NaN      NaN  NaN  NaN  NaN   \n",
       "\n",
       "     h_3  \n",
       "0    NaN  \n",
       "1    NaN  \n",
       "2    NaN  \n",
       "3    NaN  \n",
       "4    NaN  \n",
       "..   ...  \n",
       "666  NaN  \n",
       "667  NaN  \n",
       "668  NaN  \n",
       "669  NaN  \n",
       "670  NaN  \n",
       "\n",
       "[671 rows x 17 columns]"
      ]
     },
     "execution_count": 5,
     "metadata": {},
     "output_type": "execute_result"
    }
   ],
   "source": [
    "# 设置根目录路径\n",
    "root_directory = '/Users/huiyangzheng/Desktop/Project/Competition/GCAIAEC2024/AIC/TDS-Net/data/test_A/乳腺分类测试集A/A'  # 根据您的实际路径修改\n",
    "\n",
    "# 设置输出 CSV 文件路径\n",
    "output_csv_path = '/Users/huiyangzheng/Desktop/Project/Competition/GCAIAEC2024/AIC/TDS-Net/data/test_A/乳腺分类测试集A/A/test.csv'\n",
    "\n",
    "# 调用函数生成 CSV\n",
    "generate_image_label_csv(\n",
    "    root_dir=root_directory,\n",
    "    output_csv=output_csv_path,\n",
    "    include_full_path=False,  # 如果需要包含完整路径，设为 True\n",
    "    encoding='utf-8'\n",
    ")\n",
    "\n",
    "cla_test_df = pd.read_csv(output_csv_path)\n",
    "cla_test_df"
   ]
  },
  {
   "cell_type": "code",
   "execution_count": 6,
   "metadata": {},
   "outputs": [
    {
     "name": "stdout",
     "output_type": "stream",
     "text": [
      "总共有 21 张图片拥有超过1个标签。\n",
      "                      image_name category  class_1       x_1       y_1  \\\n",
      "85                   Image07.jpg      4A类        3  0.525669  0.410160   \n",
      "200   hcjz_birads2_0050_0005.jpg       2类        1  0.503023  0.277005   \n",
      "208   hcjz_birads2_0081_0004.jpg       2类        1  0.518075  0.375000   \n",
      "233  hcjz_birads3_01075_0006.jpg       2类        1  0.609956  0.415591   \n",
      "237   hcjz_birads2_0081_0008.jpg       2类        1  0.338035  0.275466   \n",
      "\n",
      "          w_1       h_1  class_2       x_2       y_2       w_2       h_2  \\\n",
      "85   0.128603  0.127807      3.0  0.420468  0.499198  0.200520  0.118182   \n",
      "200  0.143349  0.106480      1.0  0.509119  0.155093  0.104514  0.112657   \n",
      "208  0.182106  0.179014      1.0  0.361313  0.225309  0.087947  0.104941   \n",
      "233  0.082115  0.104770      1.0  0.534251  0.453003  0.100344  0.127898   \n",
      "237  0.107612  0.115742      1.0  0.487551  0.313265  0.133480  0.129632   \n",
      "\n",
      "     class_3  x_3  y_3  w_3  h_3  label_count  \n",
      "85       NaN  NaN  NaN  NaN  NaN            2  \n",
      "200      NaN  NaN  NaN  NaN  NaN            2  \n",
      "208      NaN  NaN  NaN  NaN  NaN            2  \n",
      "233      NaN  NaN  NaN  NaN  NaN            2  \n",
      "237      NaN  NaN  NaN  NaN  NaN            2  \n"
     ]
    },
    {
     "data": {
      "text/html": [
       "<div>\n",
       "<style scoped>\n",
       "    .dataframe tbody tr th:only-of-type {\n",
       "        vertical-align: middle;\n",
       "    }\n",
       "\n",
       "    .dataframe tbody tr th {\n",
       "        vertical-align: top;\n",
       "    }\n",
       "\n",
       "    .dataframe thead th {\n",
       "        text-align: right;\n",
       "    }\n",
       "</style>\n",
       "<table border=\"1\" class=\"dataframe\">\n",
       "  <thead>\n",
       "    <tr style=\"text-align: right;\">\n",
       "      <th></th>\n",
       "      <th>image_name</th>\n",
       "      <th>category</th>\n",
       "      <th>class_1</th>\n",
       "      <th>x_1</th>\n",
       "      <th>y_1</th>\n",
       "      <th>w_1</th>\n",
       "      <th>h_1</th>\n",
       "      <th>class_2</th>\n",
       "      <th>x_2</th>\n",
       "      <th>y_2</th>\n",
       "      <th>w_2</th>\n",
       "      <th>h_2</th>\n",
       "      <th>class_3</th>\n",
       "      <th>x_3</th>\n",
       "      <th>y_3</th>\n",
       "      <th>w_3</th>\n",
       "      <th>h_3</th>\n",
       "      <th>label_count</th>\n",
       "    </tr>\n",
       "  </thead>\n",
       "  <tbody>\n",
       "    <tr>\n",
       "      <th>85</th>\n",
       "      <td>Image07.jpg</td>\n",
       "      <td>4A类</td>\n",
       "      <td>3</td>\n",
       "      <td>0.525669</td>\n",
       "      <td>0.410160</td>\n",
       "      <td>0.128603</td>\n",
       "      <td>0.127807</td>\n",
       "      <td>3.0</td>\n",
       "      <td>0.420468</td>\n",
       "      <td>0.499198</td>\n",
       "      <td>0.200520</td>\n",
       "      <td>0.118182</td>\n",
       "      <td>NaN</td>\n",
       "      <td>NaN</td>\n",
       "      <td>NaN</td>\n",
       "      <td>NaN</td>\n",
       "      <td>NaN</td>\n",
       "      <td>2</td>\n",
       "    </tr>\n",
       "    <tr>\n",
       "      <th>200</th>\n",
       "      <td>hcjz_birads2_0050_0005.jpg</td>\n",
       "      <td>2类</td>\n",
       "      <td>1</td>\n",
       "      <td>0.503023</td>\n",
       "      <td>0.277005</td>\n",
       "      <td>0.143349</td>\n",
       "      <td>0.106480</td>\n",
       "      <td>1.0</td>\n",
       "      <td>0.509119</td>\n",
       "      <td>0.155093</td>\n",
       "      <td>0.104514</td>\n",
       "      <td>0.112657</td>\n",
       "      <td>NaN</td>\n",
       "      <td>NaN</td>\n",
       "      <td>NaN</td>\n",
       "      <td>NaN</td>\n",
       "      <td>NaN</td>\n",
       "      <td>2</td>\n",
       "    </tr>\n",
       "    <tr>\n",
       "      <th>208</th>\n",
       "      <td>hcjz_birads2_0081_0004.jpg</td>\n",
       "      <td>2类</td>\n",
       "      <td>1</td>\n",
       "      <td>0.518075</td>\n",
       "      <td>0.375000</td>\n",
       "      <td>0.182106</td>\n",
       "      <td>0.179014</td>\n",
       "      <td>1.0</td>\n",
       "      <td>0.361313</td>\n",
       "      <td>0.225309</td>\n",
       "      <td>0.087947</td>\n",
       "      <td>0.104941</td>\n",
       "      <td>NaN</td>\n",
       "      <td>NaN</td>\n",
       "      <td>NaN</td>\n",
       "      <td>NaN</td>\n",
       "      <td>NaN</td>\n",
       "      <td>2</td>\n",
       "    </tr>\n",
       "    <tr>\n",
       "      <th>233</th>\n",
       "      <td>hcjz_birads3_01075_0006.jpg</td>\n",
       "      <td>2类</td>\n",
       "      <td>1</td>\n",
       "      <td>0.609956</td>\n",
       "      <td>0.415591</td>\n",
       "      <td>0.082115</td>\n",
       "      <td>0.104770</td>\n",
       "      <td>1.0</td>\n",
       "      <td>0.534251</td>\n",
       "      <td>0.453003</td>\n",
       "      <td>0.100344</td>\n",
       "      <td>0.127898</td>\n",
       "      <td>NaN</td>\n",
       "      <td>NaN</td>\n",
       "      <td>NaN</td>\n",
       "      <td>NaN</td>\n",
       "      <td>NaN</td>\n",
       "      <td>2</td>\n",
       "    </tr>\n",
       "    <tr>\n",
       "      <th>237</th>\n",
       "      <td>hcjz_birads2_0081_0008.jpg</td>\n",
       "      <td>2类</td>\n",
       "      <td>1</td>\n",
       "      <td>0.338035</td>\n",
       "      <td>0.275466</td>\n",
       "      <td>0.107612</td>\n",
       "      <td>0.115742</td>\n",
       "      <td>1.0</td>\n",
       "      <td>0.487551</td>\n",
       "      <td>0.313265</td>\n",
       "      <td>0.133480</td>\n",
       "      <td>0.129632</td>\n",
       "      <td>NaN</td>\n",
       "      <td>NaN</td>\n",
       "      <td>NaN</td>\n",
       "      <td>NaN</td>\n",
       "      <td>NaN</td>\n",
       "      <td>2</td>\n",
       "    </tr>\n",
       "    <tr>\n",
       "      <th>241</th>\n",
       "      <td>hcjz_birads2_0350_0004.jpg</td>\n",
       "      <td>2类</td>\n",
       "      <td>1</td>\n",
       "      <td>0.588952</td>\n",
       "      <td>0.222989</td>\n",
       "      <td>0.077604</td>\n",
       "      <td>0.063272</td>\n",
       "      <td>1.0</td>\n",
       "      <td>0.539802</td>\n",
       "      <td>0.258482</td>\n",
       "      <td>0.076573</td>\n",
       "      <td>0.063272</td>\n",
       "      <td>NaN</td>\n",
       "      <td>NaN</td>\n",
       "      <td>NaN</td>\n",
       "      <td>NaN</td>\n",
       "      <td>NaN</td>\n",
       "      <td>2</td>\n",
       "    </tr>\n",
       "    <tr>\n",
       "      <th>252</th>\n",
       "      <td>sec_0067.jpg</td>\n",
       "      <td>2类</td>\n",
       "      <td>1</td>\n",
       "      <td>0.664791</td>\n",
       "      <td>0.258985</td>\n",
       "      <td>0.093602</td>\n",
       "      <td>0.084237</td>\n",
       "      <td>1.0</td>\n",
       "      <td>0.378608</td>\n",
       "      <td>0.276165</td>\n",
       "      <td>0.182345</td>\n",
       "      <td>0.093649</td>\n",
       "      <td>NaN</td>\n",
       "      <td>NaN</td>\n",
       "      <td>NaN</td>\n",
       "      <td>NaN</td>\n",
       "      <td>NaN</td>\n",
       "      <td>2</td>\n",
       "    </tr>\n",
       "    <tr>\n",
       "      <th>329</th>\n",
       "      <td>fou_0001.jpg</td>\n",
       "      <td>4B类</td>\n",
       "      <td>4</td>\n",
       "      <td>0.360567</td>\n",
       "      <td>0.411082</td>\n",
       "      <td>0.234021</td>\n",
       "      <td>0.279278</td>\n",
       "      <td>4.0</td>\n",
       "      <td>0.558022</td>\n",
       "      <td>0.353402</td>\n",
       "      <td>0.145296</td>\n",
       "      <td>0.132577</td>\n",
       "      <td>NaN</td>\n",
       "      <td>NaN</td>\n",
       "      <td>NaN</td>\n",
       "      <td>NaN</td>\n",
       "      <td>NaN</td>\n",
       "      <td>2</td>\n",
       "    </tr>\n",
       "    <tr>\n",
       "      <th>335</th>\n",
       "      <td>fou_0005.jpg</td>\n",
       "      <td>4B类</td>\n",
       "      <td>4</td>\n",
       "      <td>0.422036</td>\n",
       "      <td>0.395515</td>\n",
       "      <td>0.204768</td>\n",
       "      <td>0.210619</td>\n",
       "      <td>4.0</td>\n",
       "      <td>0.596521</td>\n",
       "      <td>0.372835</td>\n",
       "      <td>0.134536</td>\n",
       "      <td>0.149794</td>\n",
       "      <td>NaN</td>\n",
       "      <td>NaN</td>\n",
       "      <td>NaN</td>\n",
       "      <td>NaN</td>\n",
       "      <td>NaN</td>\n",
       "      <td>2</td>\n",
       "    </tr>\n",
       "    <tr>\n",
       "      <th>416</th>\n",
       "      <td>0114.jpg</td>\n",
       "      <td>3类</td>\n",
       "      <td>2</td>\n",
       "      <td>0.235541</td>\n",
       "      <td>0.416896</td>\n",
       "      <td>0.130132</td>\n",
       "      <td>0.095167</td>\n",
       "      <td>2.0</td>\n",
       "      <td>0.490393</td>\n",
       "      <td>0.470120</td>\n",
       "      <td>0.087961</td>\n",
       "      <td>0.095156</td>\n",
       "      <td>NaN</td>\n",
       "      <td>NaN</td>\n",
       "      <td>NaN</td>\n",
       "      <td>NaN</td>\n",
       "      <td>NaN</td>\n",
       "      <td>2</td>\n",
       "    </tr>\n",
       "    <tr>\n",
       "      <th>488</th>\n",
       "      <td>thi_0275.jpg</td>\n",
       "      <td>3类</td>\n",
       "      <td>2</td>\n",
       "      <td>0.428302</td>\n",
       "      <td>0.348276</td>\n",
       "      <td>0.078344</td>\n",
       "      <td>0.078247</td>\n",
       "      <td>2.0</td>\n",
       "      <td>0.381646</td>\n",
       "      <td>0.385052</td>\n",
       "      <td>0.066024</td>\n",
       "      <td>0.095464</td>\n",
       "      <td>NaN</td>\n",
       "      <td>NaN</td>\n",
       "      <td>NaN</td>\n",
       "      <td>NaN</td>\n",
       "      <td>NaN</td>\n",
       "      <td>2</td>\n",
       "    </tr>\n",
       "    <tr>\n",
       "      <th>494</th>\n",
       "      <td>BUSI_0388.png</td>\n",
       "      <td>3类</td>\n",
       "      <td>2</td>\n",
       "      <td>0.694748</td>\n",
       "      <td>0.281581</td>\n",
       "      <td>0.394692</td>\n",
       "      <td>0.242222</td>\n",
       "      <td>2.0</td>\n",
       "      <td>0.278912</td>\n",
       "      <td>0.250449</td>\n",
       "      <td>0.129253</td>\n",
       "      <td>0.129530</td>\n",
       "      <td>NaN</td>\n",
       "      <td>NaN</td>\n",
       "      <td>NaN</td>\n",
       "      <td>NaN</td>\n",
       "      <td>NaN</td>\n",
       "      <td>2</td>\n",
       "    </tr>\n",
       "    <tr>\n",
       "      <th>498</th>\n",
       "      <td>thi_0076.jpg</td>\n",
       "      <td>3类</td>\n",
       "      <td>2</td>\n",
       "      <td>0.500042</td>\n",
       "      <td>0.296632</td>\n",
       "      <td>0.091553</td>\n",
       "      <td>0.093906</td>\n",
       "      <td>2.0</td>\n",
       "      <td>0.425219</td>\n",
       "      <td>0.330275</td>\n",
       "      <td>0.051057</td>\n",
       "      <td>0.061031</td>\n",
       "      <td>NaN</td>\n",
       "      <td>NaN</td>\n",
       "      <td>NaN</td>\n",
       "      <td>NaN</td>\n",
       "      <td>NaN</td>\n",
       "      <td>2</td>\n",
       "    </tr>\n",
       "    <tr>\n",
       "      <th>501</th>\n",
       "      <td>0226.jpg</td>\n",
       "      <td>3类</td>\n",
       "      <td>2</td>\n",
       "      <td>0.375290</td>\n",
       "      <td>0.493631</td>\n",
       "      <td>0.128827</td>\n",
       "      <td>0.119359</td>\n",
       "      <td>2.0</td>\n",
       "      <td>0.515010</td>\n",
       "      <td>0.472663</td>\n",
       "      <td>0.127017</td>\n",
       "      <td>0.119347</td>\n",
       "      <td>NaN</td>\n",
       "      <td>NaN</td>\n",
       "      <td>NaN</td>\n",
       "      <td>NaN</td>\n",
       "      <td>NaN</td>\n",
       "      <td>2</td>\n",
       "    </tr>\n",
       "    <tr>\n",
       "      <th>510</th>\n",
       "      <td>thi_0075.jpg</td>\n",
       "      <td>3类</td>\n",
       "      <td>2</td>\n",
       "      <td>0.386488</td>\n",
       "      <td>0.313064</td>\n",
       "      <td>0.042255</td>\n",
       "      <td>0.042257</td>\n",
       "      <td>2.0</td>\n",
       "      <td>0.423019</td>\n",
       "      <td>0.348276</td>\n",
       "      <td>0.066024</td>\n",
       "      <td>0.059462</td>\n",
       "      <td>2.0</td>\n",
       "      <td>0.457352</td>\n",
       "      <td>0.297417</td>\n",
       "      <td>0.099472</td>\n",
       "      <td>0.098591</td>\n",
       "      <td>3</td>\n",
       "    </tr>\n",
       "    <tr>\n",
       "      <th>520</th>\n",
       "      <td>0380.jpg</td>\n",
       "      <td>3类</td>\n",
       "      <td>2</td>\n",
       "      <td>0.547671</td>\n",
       "      <td>0.360567</td>\n",
       "      <td>0.059878</td>\n",
       "      <td>0.085487</td>\n",
       "      <td>2.0</td>\n",
       "      <td>0.646559</td>\n",
       "      <td>0.404107</td>\n",
       "      <td>0.156044</td>\n",
       "      <td>0.111306</td>\n",
       "      <td>NaN</td>\n",
       "      <td>NaN</td>\n",
       "      <td>NaN</td>\n",
       "      <td>NaN</td>\n",
       "      <td>NaN</td>\n",
       "      <td>2</td>\n",
       "    </tr>\n",
       "    <tr>\n",
       "      <th>548</th>\n",
       "      <td>0332.jpg</td>\n",
       "      <td>3类</td>\n",
       "      <td>2</td>\n",
       "      <td>0.295905</td>\n",
       "      <td>0.346861</td>\n",
       "      <td>0.253125</td>\n",
       "      <td>0.180641</td>\n",
       "      <td>2.0</td>\n",
       "      <td>0.603463</td>\n",
       "      <td>0.268637</td>\n",
       "      <td>0.149697</td>\n",
       "      <td>0.140321</td>\n",
       "      <td>NaN</td>\n",
       "      <td>NaN</td>\n",
       "      <td>NaN</td>\n",
       "      <td>NaN</td>\n",
       "      <td>NaN</td>\n",
       "      <td>2</td>\n",
       "    </tr>\n",
       "    <tr>\n",
       "      <th>569</th>\n",
       "      <td>1002.jpg</td>\n",
       "      <td>3类</td>\n",
       "      <td>2</td>\n",
       "      <td>0.663795</td>\n",
       "      <td>0.425781</td>\n",
       "      <td>0.200089</td>\n",
       "      <td>0.112723</td>\n",
       "      <td>2.0</td>\n",
       "      <td>0.656719</td>\n",
       "      <td>0.413638</td>\n",
       "      <td>0.192902</td>\n",
       "      <td>0.123438</td>\n",
       "      <td>NaN</td>\n",
       "      <td>NaN</td>\n",
       "      <td>NaN</td>\n",
       "      <td>NaN</td>\n",
       "      <td>NaN</td>\n",
       "      <td>2</td>\n",
       "    </tr>\n",
       "    <tr>\n",
       "      <th>630</th>\n",
       "      <td>0575.jpg</td>\n",
       "      <td>4C类</td>\n",
       "      <td>5</td>\n",
       "      <td>0.393860</td>\n",
       "      <td>0.479861</td>\n",
       "      <td>0.337577</td>\n",
       "      <td>0.466052</td>\n",
       "      <td>5.0</td>\n",
       "      <td>0.474391</td>\n",
       "      <td>0.333258</td>\n",
       "      <td>0.259452</td>\n",
       "      <td>0.268515</td>\n",
       "      <td>NaN</td>\n",
       "      <td>NaN</td>\n",
       "      <td>NaN</td>\n",
       "      <td>NaN</td>\n",
       "      <td>NaN</td>\n",
       "      <td>2</td>\n",
       "    </tr>\n",
       "    <tr>\n",
       "      <th>631</th>\n",
       "      <td>0574.jpg</td>\n",
       "      <td>4C类</td>\n",
       "      <td>5</td>\n",
       "      <td>0.509601</td>\n",
       "      <td>0.340974</td>\n",
       "      <td>0.262345</td>\n",
       "      <td>0.287041</td>\n",
       "      <td>5.0</td>\n",
       "      <td>0.407841</td>\n",
       "      <td>0.496840</td>\n",
       "      <td>0.325039</td>\n",
       "      <td>0.475309</td>\n",
       "      <td>NaN</td>\n",
       "      <td>NaN</td>\n",
       "      <td>NaN</td>\n",
       "      <td>NaN</td>\n",
       "      <td>NaN</td>\n",
       "      <td>2</td>\n",
       "    </tr>\n",
       "    <tr>\n",
       "      <th>659</th>\n",
       "      <td>1100.jpg</td>\n",
       "      <td>4C类</td>\n",
       "      <td>5</td>\n",
       "      <td>0.768571</td>\n",
       "      <td>0.307946</td>\n",
       "      <td>0.379643</td>\n",
       "      <td>0.294732</td>\n",
       "      <td>5.0</td>\n",
       "      <td>0.338795</td>\n",
       "      <td>0.209933</td>\n",
       "      <td>0.461429</td>\n",
       "      <td>0.246920</td>\n",
       "      <td>NaN</td>\n",
       "      <td>NaN</td>\n",
       "      <td>NaN</td>\n",
       "      <td>NaN</td>\n",
       "      <td>NaN</td>\n",
       "      <td>2</td>\n",
       "    </tr>\n",
       "  </tbody>\n",
       "</table>\n",
       "</div>"
      ],
      "text/plain": [
       "                      image_name category  class_1       x_1       y_1  \\\n",
       "85                   Image07.jpg      4A类        3  0.525669  0.410160   \n",
       "200   hcjz_birads2_0050_0005.jpg       2类        1  0.503023  0.277005   \n",
       "208   hcjz_birads2_0081_0004.jpg       2类        1  0.518075  0.375000   \n",
       "233  hcjz_birads3_01075_0006.jpg       2类        1  0.609956  0.415591   \n",
       "237   hcjz_birads2_0081_0008.jpg       2类        1  0.338035  0.275466   \n",
       "241   hcjz_birads2_0350_0004.jpg       2类        1  0.588952  0.222989   \n",
       "252                 sec_0067.jpg       2类        1  0.664791  0.258985   \n",
       "329                 fou_0001.jpg      4B类        4  0.360567  0.411082   \n",
       "335                 fou_0005.jpg      4B类        4  0.422036  0.395515   \n",
       "416                     0114.jpg       3类        2  0.235541  0.416896   \n",
       "488                 thi_0275.jpg       3类        2  0.428302  0.348276   \n",
       "494                BUSI_0388.png       3类        2  0.694748  0.281581   \n",
       "498                 thi_0076.jpg       3类        2  0.500042  0.296632   \n",
       "501                     0226.jpg       3类        2  0.375290  0.493631   \n",
       "510                 thi_0075.jpg       3类        2  0.386488  0.313064   \n",
       "520                     0380.jpg       3类        2  0.547671  0.360567   \n",
       "548                     0332.jpg       3类        2  0.295905  0.346861   \n",
       "569                     1002.jpg       3类        2  0.663795  0.425781   \n",
       "630                     0575.jpg      4C类        5  0.393860  0.479861   \n",
       "631                     0574.jpg      4C类        5  0.509601  0.340974   \n",
       "659                     1100.jpg      4C类        5  0.768571  0.307946   \n",
       "\n",
       "          w_1       h_1  class_2       x_2       y_2       w_2       h_2  \\\n",
       "85   0.128603  0.127807      3.0  0.420468  0.499198  0.200520  0.118182   \n",
       "200  0.143349  0.106480      1.0  0.509119  0.155093  0.104514  0.112657   \n",
       "208  0.182106  0.179014      1.0  0.361313  0.225309  0.087947  0.104941   \n",
       "233  0.082115  0.104770      1.0  0.534251  0.453003  0.100344  0.127898   \n",
       "237  0.107612  0.115742      1.0  0.487551  0.313265  0.133480  0.129632   \n",
       "241  0.077604  0.063272      1.0  0.539802  0.258482  0.076573  0.063272   \n",
       "252  0.093602  0.084237      1.0  0.378608  0.276165  0.182345  0.093649   \n",
       "329  0.234021  0.279278      4.0  0.558022  0.353402  0.145296  0.132577   \n",
       "335  0.204768  0.210619      4.0  0.596521  0.372835  0.134536  0.149794   \n",
       "416  0.130132  0.095167      2.0  0.490393  0.470120  0.087961  0.095156   \n",
       "488  0.078344  0.078247      2.0  0.381646  0.385052  0.066024  0.095464   \n",
       "494  0.394692  0.242222      2.0  0.278912  0.250449  0.129253  0.129530   \n",
       "498  0.091553  0.093906      2.0  0.425219  0.330275  0.051057  0.061031   \n",
       "501  0.128827  0.119359      2.0  0.515010  0.472663  0.127017  0.119347   \n",
       "510  0.042255  0.042257      2.0  0.423019  0.348276  0.066024  0.059462   \n",
       "520  0.059878  0.085487      2.0  0.646559  0.404107  0.156044  0.111306   \n",
       "548  0.253125  0.180641      2.0  0.603463  0.268637  0.149697  0.140321   \n",
       "569  0.200089  0.112723      2.0  0.656719  0.413638  0.192902  0.123438   \n",
       "630  0.337577  0.466052      5.0  0.474391  0.333258  0.259452  0.268515   \n",
       "631  0.262345  0.287041      5.0  0.407841  0.496840  0.325039  0.475309   \n",
       "659  0.379643  0.294732      5.0  0.338795  0.209933  0.461429  0.246920   \n",
       "\n",
       "     class_3       x_3       y_3       w_3       h_3  label_count  \n",
       "85       NaN       NaN       NaN       NaN       NaN            2  \n",
       "200      NaN       NaN       NaN       NaN       NaN            2  \n",
       "208      NaN       NaN       NaN       NaN       NaN            2  \n",
       "233      NaN       NaN       NaN       NaN       NaN            2  \n",
       "237      NaN       NaN       NaN       NaN       NaN            2  \n",
       "241      NaN       NaN       NaN       NaN       NaN            2  \n",
       "252      NaN       NaN       NaN       NaN       NaN            2  \n",
       "329      NaN       NaN       NaN       NaN       NaN            2  \n",
       "335      NaN       NaN       NaN       NaN       NaN            2  \n",
       "416      NaN       NaN       NaN       NaN       NaN            2  \n",
       "488      NaN       NaN       NaN       NaN       NaN            2  \n",
       "494      NaN       NaN       NaN       NaN       NaN            2  \n",
       "498      NaN       NaN       NaN       NaN       NaN            2  \n",
       "501      NaN       NaN       NaN       NaN       NaN            2  \n",
       "510      2.0  0.457352  0.297417  0.099472  0.098591            3  \n",
       "520      NaN       NaN       NaN       NaN       NaN            2  \n",
       "548      NaN       NaN       NaN       NaN       NaN            2  \n",
       "569      NaN       NaN       NaN       NaN       NaN            2  \n",
       "630      NaN       NaN       NaN       NaN       NaN            2  \n",
       "631      NaN       NaN       NaN       NaN       NaN            2  \n",
       "659      NaN       NaN       NaN       NaN       NaN            2  "
      ]
     },
     "execution_count": 6,
     "metadata": {},
     "output_type": "execute_result"
    }
   ],
   "source": [
    "# 调用函数检查标签数量大于1的记录\n",
    "df_filtered = check_multiple_labels(output_csv_path)\n",
    "\n",
    "df_filtered"
   ]
  },
  {
   "cell_type": "code",
   "execution_count": 7,
   "metadata": {},
   "outputs": [
    {
     "name": "stdout",
     "output_type": "stream",
     "text": [
      "Total test samples: 671\n"
     ]
    },
    {
     "data": {
      "text/html": [
       "<div>\n",
       "<style scoped>\n",
       "    .dataframe tbody tr th:only-of-type {\n",
       "        vertical-align: middle;\n",
       "    }\n",
       "\n",
       "    .dataframe tbody tr th {\n",
       "        vertical-align: top;\n",
       "    }\n",
       "\n",
       "    .dataframe thead th {\n",
       "        text-align: right;\n",
       "    }\n",
       "</style>\n",
       "<table border=\"1\" class=\"dataframe\">\n",
       "  <thead>\n",
       "    <tr style=\"text-align: right;\">\n",
       "      <th></th>\n",
       "      <th>image_name</th>\n",
       "      <th>category</th>\n",
       "      <th>class_1</th>\n",
       "      <th>x_1</th>\n",
       "      <th>y_1</th>\n",
       "      <th>w_1</th>\n",
       "      <th>h_1</th>\n",
       "      <th>class_2</th>\n",
       "      <th>x_2</th>\n",
       "      <th>y_2</th>\n",
       "      <th>w_2</th>\n",
       "      <th>h_2</th>\n",
       "      <th>class_3</th>\n",
       "      <th>x_3</th>\n",
       "      <th>y_3</th>\n",
       "      <th>w_3</th>\n",
       "      <th>h_3</th>\n",
       "    </tr>\n",
       "  </thead>\n",
       "  <tbody>\n",
       "    <tr>\n",
       "      <th>0</th>\n",
       "      <td>BUSI_0645.png</td>\n",
       "      <td>5类</td>\n",
       "      <td>6</td>\n",
       "      <td>0.515009</td>\n",
       "      <td>0.368107</td>\n",
       "      <td>0.440995</td>\n",
       "      <td>0.386831</td>\n",
       "      <td>NaN</td>\n",
       "      <td>NaN</td>\n",
       "      <td>NaN</td>\n",
       "      <td>NaN</td>\n",
       "      <td>NaN</td>\n",
       "      <td>NaN</td>\n",
       "      <td>NaN</td>\n",
       "      <td>NaN</td>\n",
       "      <td>NaN</td>\n",
       "      <td>NaN</td>\n",
       "    </tr>\n",
       "    <tr>\n",
       "      <th>1</th>\n",
       "      <td>hcjz_birads5_0024_0030.jpg</td>\n",
       "      <td>5类</td>\n",
       "      <td>6</td>\n",
       "      <td>0.523203</td>\n",
       "      <td>0.275677</td>\n",
       "      <td>0.394529</td>\n",
       "      <td>0.345650</td>\n",
       "      <td>NaN</td>\n",
       "      <td>NaN</td>\n",
       "      <td>NaN</td>\n",
       "      <td>NaN</td>\n",
       "      <td>NaN</td>\n",
       "      <td>NaN</td>\n",
       "      <td>NaN</td>\n",
       "      <td>NaN</td>\n",
       "      <td>NaN</td>\n",
       "      <td>NaN</td>\n",
       "    </tr>\n",
       "    <tr>\n",
       "      <th>2</th>\n",
       "      <td>fou_0109.jpg</td>\n",
       "      <td>5类</td>\n",
       "      <td>6</td>\n",
       "      <td>0.464884</td>\n",
       "      <td>0.538316</td>\n",
       "      <td>0.282603</td>\n",
       "      <td>0.380641</td>\n",
       "      <td>NaN</td>\n",
       "      <td>NaN</td>\n",
       "      <td>NaN</td>\n",
       "      <td>NaN</td>\n",
       "      <td>NaN</td>\n",
       "      <td>NaN</td>\n",
       "      <td>NaN</td>\n",
       "      <td>NaN</td>\n",
       "      <td>NaN</td>\n",
       "      <td>NaN</td>\n",
       "    </tr>\n",
       "    <tr>\n",
       "      <th>3</th>\n",
       "      <td>hcjz_birads5_0031_0112.jpg</td>\n",
       "      <td>5类</td>\n",
       "      <td>6</td>\n",
       "      <td>0.478748</td>\n",
       "      <td>0.490410</td>\n",
       "      <td>0.435471</td>\n",
       "      <td>0.437307</td>\n",
       "      <td>NaN</td>\n",
       "      <td>NaN</td>\n",
       "      <td>NaN</td>\n",
       "      <td>NaN</td>\n",
       "      <td>NaN</td>\n",
       "      <td>NaN</td>\n",
       "      <td>NaN</td>\n",
       "      <td>NaN</td>\n",
       "      <td>NaN</td>\n",
       "      <td>NaN</td>\n",
       "    </tr>\n",
       "    <tr>\n",
       "      <th>4</th>\n",
       "      <td>hcjz_birads4C_0078_0012.jpg</td>\n",
       "      <td>5类</td>\n",
       "      <td>6</td>\n",
       "      <td>0.464362</td>\n",
       "      <td>0.387806</td>\n",
       "      <td>0.423532</td>\n",
       "      <td>0.345570</td>\n",
       "      <td>NaN</td>\n",
       "      <td>NaN</td>\n",
       "      <td>NaN</td>\n",
       "      <td>NaN</td>\n",
       "      <td>NaN</td>\n",
       "      <td>NaN</td>\n",
       "      <td>NaN</td>\n",
       "      <td>NaN</td>\n",
       "      <td>NaN</td>\n",
       "      <td>NaN</td>\n",
       "    </tr>\n",
       "    <tr>\n",
       "      <th>...</th>\n",
       "      <td>...</td>\n",
       "      <td>...</td>\n",
       "      <td>...</td>\n",
       "      <td>...</td>\n",
       "      <td>...</td>\n",
       "      <td>...</td>\n",
       "      <td>...</td>\n",
       "      <td>...</td>\n",
       "      <td>...</td>\n",
       "      <td>...</td>\n",
       "      <td>...</td>\n",
       "      <td>...</td>\n",
       "      <td>...</td>\n",
       "      <td>...</td>\n",
       "      <td>...</td>\n",
       "      <td>...</td>\n",
       "      <td>...</td>\n",
       "    </tr>\n",
       "    <tr>\n",
       "      <th>666</th>\n",
       "      <td>hcjz_birads4C_0054_0007.jpg</td>\n",
       "      <td>4C类</td>\n",
       "      <td>5</td>\n",
       "      <td>0.524220</td>\n",
       "      <td>0.385657</td>\n",
       "      <td>0.189744</td>\n",
       "      <td>0.434021</td>\n",
       "      <td>NaN</td>\n",
       "      <td>NaN</td>\n",
       "      <td>NaN</td>\n",
       "      <td>NaN</td>\n",
       "      <td>NaN</td>\n",
       "      <td>NaN</td>\n",
       "      <td>NaN</td>\n",
       "      <td>NaN</td>\n",
       "      <td>NaN</td>\n",
       "      <td>NaN</td>\n",
       "    </tr>\n",
       "    <tr>\n",
       "      <th>667</th>\n",
       "      <td>hcjz_birads3_01050_0010.jpg</td>\n",
       "      <td>4C类</td>\n",
       "      <td>5</td>\n",
       "      <td>0.540506</td>\n",
       "      <td>0.270723</td>\n",
       "      <td>0.369648</td>\n",
       "      <td>0.242170</td>\n",
       "      <td>NaN</td>\n",
       "      <td>NaN</td>\n",
       "      <td>NaN</td>\n",
       "      <td>NaN</td>\n",
       "      <td>NaN</td>\n",
       "      <td>NaN</td>\n",
       "      <td>NaN</td>\n",
       "      <td>NaN</td>\n",
       "      <td>NaN</td>\n",
       "      <td>NaN</td>\n",
       "    </tr>\n",
       "    <tr>\n",
       "      <th>668</th>\n",
       "      <td>0526.jpg</td>\n",
       "      <td>4C类</td>\n",
       "      <td>5</td>\n",
       "      <td>0.565058</td>\n",
       "      <td>0.421222</td>\n",
       "      <td>0.326972</td>\n",
       "      <td>0.373454</td>\n",
       "      <td>NaN</td>\n",
       "      <td>NaN</td>\n",
       "      <td>NaN</td>\n",
       "      <td>NaN</td>\n",
       "      <td>NaN</td>\n",
       "      <td>NaN</td>\n",
       "      <td>NaN</td>\n",
       "      <td>NaN</td>\n",
       "      <td>NaN</td>\n",
       "      <td>NaN</td>\n",
       "    </tr>\n",
       "    <tr>\n",
       "      <th>669</th>\n",
       "      <td>hcjz_birads4C_0055_0003.jpg</td>\n",
       "      <td>4C类</td>\n",
       "      <td>5</td>\n",
       "      <td>0.380517</td>\n",
       "      <td>0.339388</td>\n",
       "      <td>0.196006</td>\n",
       "      <td>0.191846</td>\n",
       "      <td>NaN</td>\n",
       "      <td>NaN</td>\n",
       "      <td>NaN</td>\n",
       "      <td>NaN</td>\n",
       "      <td>NaN</td>\n",
       "      <td>NaN</td>\n",
       "      <td>NaN</td>\n",
       "      <td>NaN</td>\n",
       "      <td>NaN</td>\n",
       "      <td>NaN</td>\n",
       "    </tr>\n",
       "    <tr>\n",
       "      <th>670</th>\n",
       "      <td>0727.jpg</td>\n",
       "      <td>4C类</td>\n",
       "      <td>5</td>\n",
       "      <td>0.550219</td>\n",
       "      <td>0.424960</td>\n",
       "      <td>0.285206</td>\n",
       "      <td>0.303597</td>\n",
       "      <td>NaN</td>\n",
       "      <td>NaN</td>\n",
       "      <td>NaN</td>\n",
       "      <td>NaN</td>\n",
       "      <td>NaN</td>\n",
       "      <td>NaN</td>\n",
       "      <td>NaN</td>\n",
       "      <td>NaN</td>\n",
       "      <td>NaN</td>\n",
       "      <td>NaN</td>\n",
       "    </tr>\n",
       "  </tbody>\n",
       "</table>\n",
       "<p>671 rows × 17 columns</p>\n",
       "</div>"
      ],
      "text/plain": [
       "                      image_name category  class_1       x_1       y_1  \\\n",
       "0                  BUSI_0645.png       5类        6  0.515009  0.368107   \n",
       "1     hcjz_birads5_0024_0030.jpg       5类        6  0.523203  0.275677   \n",
       "2                   fou_0109.jpg       5类        6  0.464884  0.538316   \n",
       "3     hcjz_birads5_0031_0112.jpg       5类        6  0.478748  0.490410   \n",
       "4    hcjz_birads4C_0078_0012.jpg       5类        6  0.464362  0.387806   \n",
       "..                           ...      ...      ...       ...       ...   \n",
       "666  hcjz_birads4C_0054_0007.jpg      4C类        5  0.524220  0.385657   \n",
       "667  hcjz_birads3_01050_0010.jpg      4C类        5  0.540506  0.270723   \n",
       "668                     0526.jpg      4C类        5  0.565058  0.421222   \n",
       "669  hcjz_birads4C_0055_0003.jpg      4C类        5  0.380517  0.339388   \n",
       "670                     0727.jpg      4C类        5  0.550219  0.424960   \n",
       "\n",
       "          w_1       h_1  class_2  x_2  y_2  w_2  h_2  class_3  x_3  y_3  w_3  \\\n",
       "0    0.440995  0.386831      NaN  NaN  NaN  NaN  NaN      NaN  NaN  NaN  NaN   \n",
       "1    0.394529  0.345650      NaN  NaN  NaN  NaN  NaN      NaN  NaN  NaN  NaN   \n",
       "2    0.282603  0.380641      NaN  NaN  NaN  NaN  NaN      NaN  NaN  NaN  NaN   \n",
       "3    0.435471  0.437307      NaN  NaN  NaN  NaN  NaN      NaN  NaN  NaN  NaN   \n",
       "4    0.423532  0.345570      NaN  NaN  NaN  NaN  NaN      NaN  NaN  NaN  NaN   \n",
       "..        ...       ...      ...  ...  ...  ...  ...      ...  ...  ...  ...   \n",
       "666  0.189744  0.434021      NaN  NaN  NaN  NaN  NaN      NaN  NaN  NaN  NaN   \n",
       "667  0.369648  0.242170      NaN  NaN  NaN  NaN  NaN      NaN  NaN  NaN  NaN   \n",
       "668  0.326972  0.373454      NaN  NaN  NaN  NaN  NaN      NaN  NaN  NaN  NaN   \n",
       "669  0.196006  0.191846      NaN  NaN  NaN  NaN  NaN      NaN  NaN  NaN  NaN   \n",
       "670  0.285206  0.303597      NaN  NaN  NaN  NaN  NaN      NaN  NaN  NaN  NaN   \n",
       "\n",
       "     h_3  \n",
       "0    NaN  \n",
       "1    NaN  \n",
       "2    NaN  \n",
       "3    NaN  \n",
       "4    NaN  \n",
       "..   ...  \n",
       "666  NaN  \n",
       "667  NaN  \n",
       "668  NaN  \n",
       "669  NaN  \n",
       "670  NaN  \n",
       "\n",
       "[671 rows x 17 columns]"
      ]
     },
     "execution_count": 7,
     "metadata": {},
     "output_type": "execute_result"
    }
   ],
   "source": [
    "# 读取CSV\n",
    "df = pd.read_csv(test_cfg[\"csv_path\"])\n",
    "print(f\"Total test samples: {len(df)}\")\n",
    "\n",
    "df"
   ]
  },
  {
   "cell_type": "code",
   "execution_count": 8,
   "metadata": {},
   "outputs": [
    {
     "name": "stdout",
     "output_type": "stream",
     "text": [
      "Compose(\n",
      "    MyCrop()\n",
      "    Resize(size=[256, 256], interpolation=bilinear, max_size=None, antialias=True)\n",
      "    ToTensor()\n",
      "    Normalize(mean=[0.4914, 0.4822, 0.4465], std=[0.2023, 0.1994, 0.201])\n",
      ")\n"
     ]
    }
   ],
   "source": [
    "# 定义图像变换\n",
    "transform_test = create_transforms(test_cfg[\"transforms_cfg\"][\"transform_test\"], \n",
    "                                    custom_transforms=test_cfg[\"custom_transforms\"])# check_breast_test_dataset(test_dataset)\n",
    "\n",
    "print(transform_test)"
   ]
  },
  {
   "cell_type": "code",
   "execution_count": null,
   "metadata": {},
   "outputs": [],
   "source": []
  },
  {
   "cell_type": "code",
   "execution_count": 9,
   "metadata": {},
   "outputs": [
    {
     "name": "stdout",
     "output_type": "stream",
     "text": [
      "Total images found (filtered by extensions {'.png', '.gif', '.jpeg', '.bmp', '.jpg'}): 671\n",
      "===== 图片路径映射示例 =====\n",
      "BUSI_0645.png: /Users/huiyangzheng/Desktop/Project/Competition/GCAIAEC2024/AIC/TDS-Net/data/test_A/乳腺分类测试集A/A/5类/images/BUSI_0645.png\n",
      "hcjz_birads5_0024_0030.jpg: /Users/huiyangzheng/Desktop/Project/Competition/GCAIAEC2024/AIC/TDS-Net/data/test_A/乳腺分类测试集A/A/5类/images/hcjz_birads5_0024_0030.jpg\n",
      "fou_0109.jpg: /Users/huiyangzheng/Desktop/Project/Competition/GCAIAEC2024/AIC/TDS-Net/data/test_A/乳腺分类测试集A/A/5类/images/fou_0109.jpg\n",
      "hcjz_birads5_0031_0112.jpg: /Users/huiyangzheng/Desktop/Project/Competition/GCAIAEC2024/AIC/TDS-Net/data/test_A/乳腺分类测试集A/A/5类/images/hcjz_birads5_0031_0112.jpg\n",
      "hcjz_birads4C_0078_0012.jpg: /Users/huiyangzheng/Desktop/Project/Competition/GCAIAEC2024/AIC/TDS-Net/data/test_A/乳腺分类测试集A/A/5类/images/hcjz_birads4C_0078_0012.jpg\n",
      "hcjz_birads5_0007_0024.jpg: /Users/huiyangzheng/Desktop/Project/Competition/GCAIAEC2024/AIC/TDS-Net/data/test_A/乳腺分类测试集A/A/5类/images/hcjz_birads5_0007_0024.jpg\n",
      "hcjz_birads5_0009_0011.jpg: /Users/huiyangzheng/Desktop/Project/Competition/GCAIAEC2024/AIC/TDS-Net/data/test_A/乳腺分类测试集A/A/5类/images/hcjz_birads5_0009_0011.jpg\n",
      "hcjz_birads5_0014_0001.jpg: /Users/huiyangzheng/Desktop/Project/Competition/GCAIAEC2024/AIC/TDS-Net/data/test_A/乳腺分类测试集A/A/5类/images/hcjz_birads5_0014_0001.jpg\n",
      "fou_0022.jpg: /Users/huiyangzheng/Desktop/Project/Competition/GCAIAEC2024/AIC/TDS-Net/data/test_A/乳腺分类测试集A/A/5类/images/fou_0022.jpg\n",
      "hcjz_birads5_0051_0001.jpg: /Users/huiyangzheng/Desktop/Project/Competition/GCAIAEC2024/AIC/TDS-Net/data/test_A/乳腺分类测试集A/A/5类/images/hcjz_birads5_0051_0001.jpg\n",
      "\n",
      "===== 数据集验证结果 =====\n",
      "CSV文件中的图片总数: 671\n",
      "实际目录中的图片总数: 671\n",
      "缺失的图片数量: 0\n",
      "多余的图片数量: 0\n",
      "\n",
      "所有CSV文件中的图片都存在于指定的images_dir中。\n",
      "\n",
      "images_dir中没有额外的图片。\n",
      "\n",
      "===== 尝试加载所有图片 =====\n",
      "Image 'BUSI_0645.png' at index 0: /Users/huiyangzheng/Desktop/Project/Competition/GCAIAEC2024/AIC/TDS-Net/data/test_A/乳腺分类测试集A/A/5类/images/BUSI_0645.png\n",
      "Image shape: (583, 486)\n"
     ]
    },
    {
     "name": "stderr",
     "output_type": "stream",
     "text": [
      "/Users/huiyangzheng/Desktop/Project/Competition/GCAIAEC2024/AIC/TDS-Net/utils/removeFrame.py:111: UserWarning: width too small after cropped!\n",
      "  warnings.warn('width too small after cropped!')\n",
      "/Users/huiyangzheng/Desktop/Project/Competition/GCAIAEC2024/AIC/TDS-Net/utils/removeFrame.py:114: UserWarning: height too small after cropped!\n",
      "  warnings.warn('height too small after cropped!')\n"
     ]
    },
    {
     "name": "stdout",
     "output_type": "stream",
     "text": [
      "Image 'BUSI_0571.png' at index 100: /Users/huiyangzheng/Desktop/Project/Competition/GCAIAEC2024/AIC/TDS-Net/data/test_A/乳腺分类测试集A/A/4A类/images/BUSI_0571.png\n",
      "Image shape: (425, 475)\n",
      "Image 'hcjz_birads2_0050_0005.jpg' at index 200: /Users/huiyangzheng/Desktop/Project/Competition/GCAIAEC2024/AIC/TDS-Net/data/test_A/乳腺分类测试集A/A/2类/images/hcjz_birads2_0050_0005.jpg\n",
      "Image shape: (1090, 858)\n",
      "Image 'hcjz_birads4B_0055_0013.jpg' at index 300: /Users/huiyangzheng/Desktop/Project/Competition/GCAIAEC2024/AIC/TDS-Net/data/test_A/乳腺分类测试集A/A/4B类/images/hcjz_birads4B_0055_0013.jpg\n",
      "Image shape: (1090, 858)\n",
      "Image 'hcjz_birads3_01115_0003.jpg' at index 400: /Users/huiyangzheng/Desktop/Project/Competition/GCAIAEC2024/AIC/TDS-Net/data/test_A/乳腺分类测试集A/A/3类/images/hcjz_birads3_01115_0003.jpg\n",
      "Image shape: (1135, 761)\n",
      "Image 'thi_0260.jpg' at index 500: /Users/huiyangzheng/Desktop/Project/Competition/GCAIAEC2024/AIC/TDS-Net/data/test_A/乳腺分类测试集A/A/3类/images/thi_0260.jpg\n",
      "Image shape: (1552, 873)\n",
      "Image '0295.jpg' at index 600: /Users/huiyangzheng/Desktop/Project/Competition/GCAIAEC2024/AIC/TDS-Net/data/test_A/乳腺分类测试集A/A/3类/images/0295.jpg\n",
      "Image shape: (1552, 873)\n",
      "\n",
      "成功加载的图片数量: 671\n",
      "加载失败的图片数量: 0\n",
      "所有图片都成功加载。\n"
     ]
    },
    {
     "name": "stderr",
     "output_type": "stream",
     "text": [
      "/Users/huiyangzheng/Desktop/Project/Competition/GCAIAEC2024/AIC/TDS-Net/test_cla.py:139: FutureWarning: You are using `torch.load` with `weights_only=False` (the current default value), which uses the default pickle module implicitly. It is possible to construct malicious pickle data which will execute arbitrary code during unpickling (See https://github.com/pytorch/pytorch/blob/main/SECURITY.md#untrusted-models for more details). In a future release, the default value for `weights_only` will be flipped to `True`. This limits the functions that could be executed during unpickling. Arbitrary objects will no longer be allowed to be loaded via this mode unless they are explicitly allowlisted by the user via `torch.serialization.add_safe_globals`. We recommend you start setting `weights_only=True` for any use case where you don't have full control of the loaded file. Please open an issue on GitHub for any issues related to this experimental feature.\n",
      "  model.load_state_dict(torch.load(checkpoint_path, map_location=device))\n"
     ]
    },
    {
     "name": "stdout",
     "output_type": "stream",
     "text": [
      "Loaded model Unet from /Users/huiyangzheng/Downloads/Unet_Breast_20240922_133607/model/Unet_best.pth\n"
     ]
    },
    {
     "name": "stderr",
     "output_type": "stream",
     "text": [
      "Predicting:   0%|          | 0/42 [00:00<?, ?it/s]/Users/huiyangzheng/Desktop/Project/Competition/GCAIAEC2024/AIC/TDS-Net/utils/removeFrame.py:111: UserWarning: width too small after cropped!\n",
      "  warnings.warn('width too small after cropped!')\n",
      "/Users/huiyangzheng/Desktop/Project/Competition/GCAIAEC2024/AIC/TDS-Net/utils/removeFrame.py:114: UserWarning: height too small after cropped!\n",
      "  warnings.warn('height too small after cropped!')\n",
      "/Users/huiyangzheng/Desktop/Project/Competition/GCAIAEC2024/AIC/TDS-Net/utils/removeFrame.py:111: UserWarning: width too small after cropped!\n",
      "  warnings.warn('width too small after cropped!')\n",
      "/Users/huiyangzheng/Desktop/Project/Competition/GCAIAEC2024/AIC/TDS-Net/utils/removeFrame.py:114: UserWarning: height too small after cropped!\n",
      "  warnings.warn('height too small after cropped!')\n",
      "Predicting: 100%|██████████| 42/42 [02:53<00:00,  4.13s/it]\n"
     ]
    },
    {
     "data": {
      "text/html": [
       "<div>\n",
       "<style scoped>\n",
       "    .dataframe tbody tr th:only-of-type {\n",
       "        vertical-align: middle;\n",
       "    }\n",
       "\n",
       "    .dataframe tbody tr th {\n",
       "        vertical-align: top;\n",
       "    }\n",
       "\n",
       "    .dataframe thead th {\n",
       "        text-align: right;\n",
       "    }\n",
       "</style>\n",
       "<table border=\"1\" class=\"dataframe\">\n",
       "  <thead>\n",
       "    <tr style=\"text-align: right;\">\n",
       "      <th></th>\n",
       "      <th>image_name</th>\n",
       "      <th>category</th>\n",
       "      <th>class_1</th>\n",
       "      <th>x_1</th>\n",
       "      <th>y_1</th>\n",
       "      <th>w_1</th>\n",
       "      <th>h_1</th>\n",
       "      <th>class_2</th>\n",
       "      <th>x_2</th>\n",
       "      <th>y_2</th>\n",
       "      <th>w_2</th>\n",
       "      <th>h_2</th>\n",
       "      <th>class_3</th>\n",
       "      <th>x_3</th>\n",
       "      <th>y_3</th>\n",
       "      <th>w_3</th>\n",
       "      <th>h_3</th>\n",
       "      <th>predicted_category</th>\n",
       "    </tr>\n",
       "  </thead>\n",
       "  <tbody>\n",
       "    <tr>\n",
       "      <th>0</th>\n",
       "      <td>BUSI_0645.png</td>\n",
       "      <td>5类</td>\n",
       "      <td>6</td>\n",
       "      <td>0.515009</td>\n",
       "      <td>0.368107</td>\n",
       "      <td>0.440995</td>\n",
       "      <td>0.386831</td>\n",
       "      <td>NaN</td>\n",
       "      <td>NaN</td>\n",
       "      <td>NaN</td>\n",
       "      <td>NaN</td>\n",
       "      <td>NaN</td>\n",
       "      <td>NaN</td>\n",
       "      <td>NaN</td>\n",
       "      <td>NaN</td>\n",
       "      <td>NaN</td>\n",
       "      <td>NaN</td>\n",
       "      <td>5类</td>\n",
       "    </tr>\n",
       "    <tr>\n",
       "      <th>1</th>\n",
       "      <td>hcjz_birads5_0024_0030.jpg</td>\n",
       "      <td>5类</td>\n",
       "      <td>6</td>\n",
       "      <td>0.523203</td>\n",
       "      <td>0.275677</td>\n",
       "      <td>0.394529</td>\n",
       "      <td>0.345650</td>\n",
       "      <td>NaN</td>\n",
       "      <td>NaN</td>\n",
       "      <td>NaN</td>\n",
       "      <td>NaN</td>\n",
       "      <td>NaN</td>\n",
       "      <td>NaN</td>\n",
       "      <td>NaN</td>\n",
       "      <td>NaN</td>\n",
       "      <td>NaN</td>\n",
       "      <td>NaN</td>\n",
       "      <td>4C类</td>\n",
       "    </tr>\n",
       "    <tr>\n",
       "      <th>2</th>\n",
       "      <td>fou_0109.jpg</td>\n",
       "      <td>5类</td>\n",
       "      <td>6</td>\n",
       "      <td>0.464884</td>\n",
       "      <td>0.538316</td>\n",
       "      <td>0.282603</td>\n",
       "      <td>0.380641</td>\n",
       "      <td>NaN</td>\n",
       "      <td>NaN</td>\n",
       "      <td>NaN</td>\n",
       "      <td>NaN</td>\n",
       "      <td>NaN</td>\n",
       "      <td>NaN</td>\n",
       "      <td>NaN</td>\n",
       "      <td>NaN</td>\n",
       "      <td>NaN</td>\n",
       "      <td>NaN</td>\n",
       "      <td>5类</td>\n",
       "    </tr>\n",
       "    <tr>\n",
       "      <th>3</th>\n",
       "      <td>hcjz_birads5_0031_0112.jpg</td>\n",
       "      <td>5类</td>\n",
       "      <td>6</td>\n",
       "      <td>0.478748</td>\n",
       "      <td>0.490410</td>\n",
       "      <td>0.435471</td>\n",
       "      <td>0.437307</td>\n",
       "      <td>NaN</td>\n",
       "      <td>NaN</td>\n",
       "      <td>NaN</td>\n",
       "      <td>NaN</td>\n",
       "      <td>NaN</td>\n",
       "      <td>NaN</td>\n",
       "      <td>NaN</td>\n",
       "      <td>NaN</td>\n",
       "      <td>NaN</td>\n",
       "      <td>NaN</td>\n",
       "      <td>5类</td>\n",
       "    </tr>\n",
       "    <tr>\n",
       "      <th>4</th>\n",
       "      <td>hcjz_birads4C_0078_0012.jpg</td>\n",
       "      <td>5类</td>\n",
       "      <td>6</td>\n",
       "      <td>0.464362</td>\n",
       "      <td>0.387806</td>\n",
       "      <td>0.423532</td>\n",
       "      <td>0.345570</td>\n",
       "      <td>NaN</td>\n",
       "      <td>NaN</td>\n",
       "      <td>NaN</td>\n",
       "      <td>NaN</td>\n",
       "      <td>NaN</td>\n",
       "      <td>NaN</td>\n",
       "      <td>NaN</td>\n",
       "      <td>NaN</td>\n",
       "      <td>NaN</td>\n",
       "      <td>NaN</td>\n",
       "      <td>4B类</td>\n",
       "    </tr>\n",
       "    <tr>\n",
       "      <th>...</th>\n",
       "      <td>...</td>\n",
       "      <td>...</td>\n",
       "      <td>...</td>\n",
       "      <td>...</td>\n",
       "      <td>...</td>\n",
       "      <td>...</td>\n",
       "      <td>...</td>\n",
       "      <td>...</td>\n",
       "      <td>...</td>\n",
       "      <td>...</td>\n",
       "      <td>...</td>\n",
       "      <td>...</td>\n",
       "      <td>...</td>\n",
       "      <td>...</td>\n",
       "      <td>...</td>\n",
       "      <td>...</td>\n",
       "      <td>...</td>\n",
       "      <td>...</td>\n",
       "    </tr>\n",
       "    <tr>\n",
       "      <th>666</th>\n",
       "      <td>hcjz_birads4C_0054_0007.jpg</td>\n",
       "      <td>4C类</td>\n",
       "      <td>5</td>\n",
       "      <td>0.524220</td>\n",
       "      <td>0.385657</td>\n",
       "      <td>0.189744</td>\n",
       "      <td>0.434021</td>\n",
       "      <td>NaN</td>\n",
       "      <td>NaN</td>\n",
       "      <td>NaN</td>\n",
       "      <td>NaN</td>\n",
       "      <td>NaN</td>\n",
       "      <td>NaN</td>\n",
       "      <td>NaN</td>\n",
       "      <td>NaN</td>\n",
       "      <td>NaN</td>\n",
       "      <td>NaN</td>\n",
       "      <td>4C类</td>\n",
       "    </tr>\n",
       "    <tr>\n",
       "      <th>667</th>\n",
       "      <td>hcjz_birads3_01050_0010.jpg</td>\n",
       "      <td>4C类</td>\n",
       "      <td>5</td>\n",
       "      <td>0.540506</td>\n",
       "      <td>0.270723</td>\n",
       "      <td>0.369648</td>\n",
       "      <td>0.242170</td>\n",
       "      <td>NaN</td>\n",
       "      <td>NaN</td>\n",
       "      <td>NaN</td>\n",
       "      <td>NaN</td>\n",
       "      <td>NaN</td>\n",
       "      <td>NaN</td>\n",
       "      <td>NaN</td>\n",
       "      <td>NaN</td>\n",
       "      <td>NaN</td>\n",
       "      <td>NaN</td>\n",
       "      <td>3类</td>\n",
       "    </tr>\n",
       "    <tr>\n",
       "      <th>668</th>\n",
       "      <td>0526.jpg</td>\n",
       "      <td>4C类</td>\n",
       "      <td>5</td>\n",
       "      <td>0.565058</td>\n",
       "      <td>0.421222</td>\n",
       "      <td>0.326972</td>\n",
       "      <td>0.373454</td>\n",
       "      <td>NaN</td>\n",
       "      <td>NaN</td>\n",
       "      <td>NaN</td>\n",
       "      <td>NaN</td>\n",
       "      <td>NaN</td>\n",
       "      <td>NaN</td>\n",
       "      <td>NaN</td>\n",
       "      <td>NaN</td>\n",
       "      <td>NaN</td>\n",
       "      <td>NaN</td>\n",
       "      <td>5类</td>\n",
       "    </tr>\n",
       "    <tr>\n",
       "      <th>669</th>\n",
       "      <td>hcjz_birads4C_0055_0003.jpg</td>\n",
       "      <td>4C类</td>\n",
       "      <td>5</td>\n",
       "      <td>0.380517</td>\n",
       "      <td>0.339388</td>\n",
       "      <td>0.196006</td>\n",
       "      <td>0.191846</td>\n",
       "      <td>NaN</td>\n",
       "      <td>NaN</td>\n",
       "      <td>NaN</td>\n",
       "      <td>NaN</td>\n",
       "      <td>NaN</td>\n",
       "      <td>NaN</td>\n",
       "      <td>NaN</td>\n",
       "      <td>NaN</td>\n",
       "      <td>NaN</td>\n",
       "      <td>NaN</td>\n",
       "      <td>4C类</td>\n",
       "    </tr>\n",
       "    <tr>\n",
       "      <th>670</th>\n",
       "      <td>0727.jpg</td>\n",
       "      <td>4C类</td>\n",
       "      <td>5</td>\n",
       "      <td>0.550219</td>\n",
       "      <td>0.424960</td>\n",
       "      <td>0.285206</td>\n",
       "      <td>0.303597</td>\n",
       "      <td>NaN</td>\n",
       "      <td>NaN</td>\n",
       "      <td>NaN</td>\n",
       "      <td>NaN</td>\n",
       "      <td>NaN</td>\n",
       "      <td>NaN</td>\n",
       "      <td>NaN</td>\n",
       "      <td>NaN</td>\n",
       "      <td>NaN</td>\n",
       "      <td>NaN</td>\n",
       "      <td>3类</td>\n",
       "    </tr>\n",
       "  </tbody>\n",
       "</table>\n",
       "<p>671 rows × 18 columns</p>\n",
       "</div>"
      ],
      "text/plain": [
       "                      image_name category  class_1       x_1       y_1  \\\n",
       "0                  BUSI_0645.png       5类        6  0.515009  0.368107   \n",
       "1     hcjz_birads5_0024_0030.jpg       5类        6  0.523203  0.275677   \n",
       "2                   fou_0109.jpg       5类        6  0.464884  0.538316   \n",
       "3     hcjz_birads5_0031_0112.jpg       5类        6  0.478748  0.490410   \n",
       "4    hcjz_birads4C_0078_0012.jpg       5类        6  0.464362  0.387806   \n",
       "..                           ...      ...      ...       ...       ...   \n",
       "666  hcjz_birads4C_0054_0007.jpg      4C类        5  0.524220  0.385657   \n",
       "667  hcjz_birads3_01050_0010.jpg      4C类        5  0.540506  0.270723   \n",
       "668                     0526.jpg      4C类        5  0.565058  0.421222   \n",
       "669  hcjz_birads4C_0055_0003.jpg      4C类        5  0.380517  0.339388   \n",
       "670                     0727.jpg      4C类        5  0.550219  0.424960   \n",
       "\n",
       "          w_1       h_1  class_2  x_2  y_2  w_2  h_2  class_3  x_3  y_3  w_3  \\\n",
       "0    0.440995  0.386831      NaN  NaN  NaN  NaN  NaN      NaN  NaN  NaN  NaN   \n",
       "1    0.394529  0.345650      NaN  NaN  NaN  NaN  NaN      NaN  NaN  NaN  NaN   \n",
       "2    0.282603  0.380641      NaN  NaN  NaN  NaN  NaN      NaN  NaN  NaN  NaN   \n",
       "3    0.435471  0.437307      NaN  NaN  NaN  NaN  NaN      NaN  NaN  NaN  NaN   \n",
       "4    0.423532  0.345570      NaN  NaN  NaN  NaN  NaN      NaN  NaN  NaN  NaN   \n",
       "..        ...       ...      ...  ...  ...  ...  ...      ...  ...  ...  ...   \n",
       "666  0.189744  0.434021      NaN  NaN  NaN  NaN  NaN      NaN  NaN  NaN  NaN   \n",
       "667  0.369648  0.242170      NaN  NaN  NaN  NaN  NaN      NaN  NaN  NaN  NaN   \n",
       "668  0.326972  0.373454      NaN  NaN  NaN  NaN  NaN      NaN  NaN  NaN  NaN   \n",
       "669  0.196006  0.191846      NaN  NaN  NaN  NaN  NaN      NaN  NaN  NaN  NaN   \n",
       "670  0.285206  0.303597      NaN  NaN  NaN  NaN  NaN      NaN  NaN  NaN  NaN   \n",
       "\n",
       "     h_3 predicted_category  \n",
       "0    NaN                 5类  \n",
       "1    NaN                4C类  \n",
       "2    NaN                 5类  \n",
       "3    NaN                 5类  \n",
       "4    NaN                4B类  \n",
       "..   ...                ...  \n",
       "666  NaN                4C类  \n",
       "667  NaN                 3类  \n",
       "668  NaN                 5类  \n",
       "669  NaN                4C类  \n",
       "670  NaN                 3类  \n",
       "\n",
       "[671 rows x 18 columns]"
      ]
     },
     "execution_count": 9,
     "metadata": {},
     "output_type": "execute_result"
    }
   ],
   "source": [
    "# 定义图像变换\n",
    "transform_test = create_transforms(test_cfg[\"transforms_cfg\"][\"transform_test\"], \n",
    "                                    custom_transforms=test_cfg[\"custom_transforms\"])\n",
    "\n",
    "# 创建测试数据集和数据加载器\n",
    "test_dataset = BreastTestDataset(csv_file=test_cfg[\"csv_path\"], \n",
    "                                    images_dir=test_cfg[\"images_dir\"], \n",
    "                                    transform=transform_test)\n",
    "test_loader = DataLoader(test_dataset, batch_size=test_cfg[\"batch_size\"], \n",
    "                            shuffle=False, num_workers=test_cfg[\"num_workers\"])\n",
    "\n",
    "verify_breast_test_dataset(test_dataset, test_cfg[\"images_dir\"], test_cfg[\"csv_path\"])\n",
    "\n",
    "# 加载模型\n",
    "model = modelSelector(test_cfg[\"model\"], test_cfg[\"checkpoint_path\"], \n",
    "                        test_cfg[\"num_classes\"], test_cfg[\"device\"])\n",
    "print(f\"Loaded model {test_cfg['model']} from {test_cfg['checkpoint_path']}\")\n",
    "\n",
    "# 初始化预测列表\n",
    "predictions = []\n",
    "\n",
    "# 进行预测\n",
    "with torch.no_grad():\n",
    "    for images, indices in tqdm(test_loader, desc=\"Predicting\"):\n",
    "        images = images.to(test_cfg[\"device\"])\n",
    "        outputs = model(images)\n",
    "        _, preds = torch.max(outputs, 1)\n",
    "        preds = preds.cpu().numpy()\n",
    "        predictions.extend(preds)\n",
    "        \n",
    "# 将预测结果映射为类别名称\n",
    "# 确保class_names的索引与模型输出对应\n",
    "class_names = test_cfg[\"class_names\"]\n",
    "df['predicted_category'] = [class_names[p] for p in predictions]\n",
    "\n",
    "# 保存到新的CSV文件\n",
    "os.makedirs(os.path.dirname(test_cfg[\"output_csv\"]), exist_ok=True)\n",
    "df.to_csv(test_cfg[\"output_csv\"], index=False)  \n",
    "\n",
    "df"
   ]
  },
  {
   "cell_type": "code",
   "execution_count": 10,
   "metadata": {},
   "outputs": [],
   "source": [
    "df.to_csv(test_cfg[\"output_csv\"], index=False)  "
   ]
  },
  {
   "cell_type": "code",
   "execution_count": 12,
   "metadata": {},
   "outputs": [
    {
     "name": "stdout",
     "output_type": "stream",
     "text": [
      "评估指标:\n",
      "准确率 (Accuracy): 0.6557\n",
      "精确率 (Precision): 0.6482\n",
      "召回率 (Recall): 0.6557\n",
      "F1分数 (F1-Score): 0.6450\n",
      "\n",
      "分类报告:\n",
      "              precision    recall  f1-score     support\n",
      "2类             0.825000  0.792000  0.808163  125.000000\n",
      "3类             0.696864  0.840336  0.761905  238.000000\n",
      "4A类            0.560000  0.347107  0.428571  121.000000\n",
      "4B类            0.511905  0.530864  0.521212   81.000000\n",
      "4C类            0.492754  0.500000  0.496350   68.000000\n",
      "5类             0.611111  0.578947  0.594595   38.000000\n",
      "accuracy       0.655738  0.655738  0.655738    0.655738\n",
      "macro avg      0.616272  0.598209  0.601799  671.000000\n",
      "weighted avg   0.648185  0.655738  0.644971  671.000000\n"
     ]
    },
    {
     "data": {
      "application/vnd.plotly.v1+json": {
       "config": {
        "plotlyServerURL": "https://plot.ly"
       },
       "data": [
        {
         "coloraxis": "coloraxis",
         "hovertemplate": "预测类别: %{x}<br>真实类别: %{y}<br>计数: %{z}<extra></extra>",
         "name": "0",
         "texttemplate": "%{z}",
         "type": "heatmap",
         "x": [
          "2类",
          "3类",
          "4A类",
          "4B类",
          "4C类",
          "5类"
         ],
         "xaxis": "x",
         "y": [
          "2类",
          "3类",
          "4A类",
          "4B类",
          "4C类",
          "5类"
         ],
         "yaxis": "y",
         "z": [
          [
           99,
           20,
           5,
           1,
           0,
           0
          ],
          [
           13,
           200,
           15,
           7,
           3,
           0
          ],
          [
           4,
           44,
           42,
           20,
           9,
           2
          ],
          [
           3,
           14,
           8,
           43,
           10,
           3
          ],
          [
           1,
           9,
           5,
           10,
           34,
           9
          ],
          [
           0,
           0,
           0,
           3,
           13,
           22
          ]
         ]
        }
       ],
       "layout": {
        "coloraxis": {
         "colorbar": {
          "title": {
           "text": "计数"
          }
         },
         "colorscale": [
          [
           0,
           "rgb(247,251,255)"
          ],
          [
           0.125,
           "rgb(222,235,247)"
          ],
          [
           0.25,
           "rgb(198,219,239)"
          ],
          [
           0.375,
           "rgb(158,202,225)"
          ],
          [
           0.5,
           "rgb(107,174,214)"
          ],
          [
           0.625,
           "rgb(66,146,198)"
          ],
          [
           0.75,
           "rgb(33,113,181)"
          ],
          [
           0.875,
           "rgb(8,81,156)"
          ],
          [
           1,
           "rgb(8,48,107)"
          ]
         ]
        },
        "margin": {
         "t": 60
        },
        "template": {
         "data": {
          "bar": [
           {
            "error_x": {
             "color": "#2a3f5f"
            },
            "error_y": {
             "color": "#2a3f5f"
            },
            "marker": {
             "line": {
              "color": "#E5ECF6",
              "width": 0.5
             },
             "pattern": {
              "fillmode": "overlay",
              "size": 10,
              "solidity": 0.2
             }
            },
            "type": "bar"
           }
          ],
          "barpolar": [
           {
            "marker": {
             "line": {
              "color": "#E5ECF6",
              "width": 0.5
             },
             "pattern": {
              "fillmode": "overlay",
              "size": 10,
              "solidity": 0.2
             }
            },
            "type": "barpolar"
           }
          ],
          "carpet": [
           {
            "aaxis": {
             "endlinecolor": "#2a3f5f",
             "gridcolor": "white",
             "linecolor": "white",
             "minorgridcolor": "white",
             "startlinecolor": "#2a3f5f"
            },
            "baxis": {
             "endlinecolor": "#2a3f5f",
             "gridcolor": "white",
             "linecolor": "white",
             "minorgridcolor": "white",
             "startlinecolor": "#2a3f5f"
            },
            "type": "carpet"
           }
          ],
          "choropleth": [
           {
            "colorbar": {
             "outlinewidth": 0,
             "ticks": ""
            },
            "type": "choropleth"
           }
          ],
          "contour": [
           {
            "colorbar": {
             "outlinewidth": 0,
             "ticks": ""
            },
            "colorscale": [
             [
              0,
              "#0d0887"
             ],
             [
              0.1111111111111111,
              "#46039f"
             ],
             [
              0.2222222222222222,
              "#7201a8"
             ],
             [
              0.3333333333333333,
              "#9c179e"
             ],
             [
              0.4444444444444444,
              "#bd3786"
             ],
             [
              0.5555555555555556,
              "#d8576b"
             ],
             [
              0.6666666666666666,
              "#ed7953"
             ],
             [
              0.7777777777777778,
              "#fb9f3a"
             ],
             [
              0.8888888888888888,
              "#fdca26"
             ],
             [
              1,
              "#f0f921"
             ]
            ],
            "type": "contour"
           }
          ],
          "contourcarpet": [
           {
            "colorbar": {
             "outlinewidth": 0,
             "ticks": ""
            },
            "type": "contourcarpet"
           }
          ],
          "heatmap": [
           {
            "colorbar": {
             "outlinewidth": 0,
             "ticks": ""
            },
            "colorscale": [
             [
              0,
              "#0d0887"
             ],
             [
              0.1111111111111111,
              "#46039f"
             ],
             [
              0.2222222222222222,
              "#7201a8"
             ],
             [
              0.3333333333333333,
              "#9c179e"
             ],
             [
              0.4444444444444444,
              "#bd3786"
             ],
             [
              0.5555555555555556,
              "#d8576b"
             ],
             [
              0.6666666666666666,
              "#ed7953"
             ],
             [
              0.7777777777777778,
              "#fb9f3a"
             ],
             [
              0.8888888888888888,
              "#fdca26"
             ],
             [
              1,
              "#f0f921"
             ]
            ],
            "type": "heatmap"
           }
          ],
          "heatmapgl": [
           {
            "colorbar": {
             "outlinewidth": 0,
             "ticks": ""
            },
            "colorscale": [
             [
              0,
              "#0d0887"
             ],
             [
              0.1111111111111111,
              "#46039f"
             ],
             [
              0.2222222222222222,
              "#7201a8"
             ],
             [
              0.3333333333333333,
              "#9c179e"
             ],
             [
              0.4444444444444444,
              "#bd3786"
             ],
             [
              0.5555555555555556,
              "#d8576b"
             ],
             [
              0.6666666666666666,
              "#ed7953"
             ],
             [
              0.7777777777777778,
              "#fb9f3a"
             ],
             [
              0.8888888888888888,
              "#fdca26"
             ],
             [
              1,
              "#f0f921"
             ]
            ],
            "type": "heatmapgl"
           }
          ],
          "histogram": [
           {
            "marker": {
             "pattern": {
              "fillmode": "overlay",
              "size": 10,
              "solidity": 0.2
             }
            },
            "type": "histogram"
           }
          ],
          "histogram2d": [
           {
            "colorbar": {
             "outlinewidth": 0,
             "ticks": ""
            },
            "colorscale": [
             [
              0,
              "#0d0887"
             ],
             [
              0.1111111111111111,
              "#46039f"
             ],
             [
              0.2222222222222222,
              "#7201a8"
             ],
             [
              0.3333333333333333,
              "#9c179e"
             ],
             [
              0.4444444444444444,
              "#bd3786"
             ],
             [
              0.5555555555555556,
              "#d8576b"
             ],
             [
              0.6666666666666666,
              "#ed7953"
             ],
             [
              0.7777777777777778,
              "#fb9f3a"
             ],
             [
              0.8888888888888888,
              "#fdca26"
             ],
             [
              1,
              "#f0f921"
             ]
            ],
            "type": "histogram2d"
           }
          ],
          "histogram2dcontour": [
           {
            "colorbar": {
             "outlinewidth": 0,
             "ticks": ""
            },
            "colorscale": [
             [
              0,
              "#0d0887"
             ],
             [
              0.1111111111111111,
              "#46039f"
             ],
             [
              0.2222222222222222,
              "#7201a8"
             ],
             [
              0.3333333333333333,
              "#9c179e"
             ],
             [
              0.4444444444444444,
              "#bd3786"
             ],
             [
              0.5555555555555556,
              "#d8576b"
             ],
             [
              0.6666666666666666,
              "#ed7953"
             ],
             [
              0.7777777777777778,
              "#fb9f3a"
             ],
             [
              0.8888888888888888,
              "#fdca26"
             ],
             [
              1,
              "#f0f921"
             ]
            ],
            "type": "histogram2dcontour"
           }
          ],
          "mesh3d": [
           {
            "colorbar": {
             "outlinewidth": 0,
             "ticks": ""
            },
            "type": "mesh3d"
           }
          ],
          "parcoords": [
           {
            "line": {
             "colorbar": {
              "outlinewidth": 0,
              "ticks": ""
             }
            },
            "type": "parcoords"
           }
          ],
          "pie": [
           {
            "automargin": true,
            "type": "pie"
           }
          ],
          "scatter": [
           {
            "fillpattern": {
             "fillmode": "overlay",
             "size": 10,
             "solidity": 0.2
            },
            "type": "scatter"
           }
          ],
          "scatter3d": [
           {
            "line": {
             "colorbar": {
              "outlinewidth": 0,
              "ticks": ""
             }
            },
            "marker": {
             "colorbar": {
              "outlinewidth": 0,
              "ticks": ""
             }
            },
            "type": "scatter3d"
           }
          ],
          "scattercarpet": [
           {
            "marker": {
             "colorbar": {
              "outlinewidth": 0,
              "ticks": ""
             }
            },
            "type": "scattercarpet"
           }
          ],
          "scattergeo": [
           {
            "marker": {
             "colorbar": {
              "outlinewidth": 0,
              "ticks": ""
             }
            },
            "type": "scattergeo"
           }
          ],
          "scattergl": [
           {
            "marker": {
             "colorbar": {
              "outlinewidth": 0,
              "ticks": ""
             }
            },
            "type": "scattergl"
           }
          ],
          "scattermapbox": [
           {
            "marker": {
             "colorbar": {
              "outlinewidth": 0,
              "ticks": ""
             }
            },
            "type": "scattermapbox"
           }
          ],
          "scatterpolar": [
           {
            "marker": {
             "colorbar": {
              "outlinewidth": 0,
              "ticks": ""
             }
            },
            "type": "scatterpolar"
           }
          ],
          "scatterpolargl": [
           {
            "marker": {
             "colorbar": {
              "outlinewidth": 0,
              "ticks": ""
             }
            },
            "type": "scatterpolargl"
           }
          ],
          "scatterternary": [
           {
            "marker": {
             "colorbar": {
              "outlinewidth": 0,
              "ticks": ""
             }
            },
            "type": "scatterternary"
           }
          ],
          "surface": [
           {
            "colorbar": {
             "outlinewidth": 0,
             "ticks": ""
            },
            "colorscale": [
             [
              0,
              "#0d0887"
             ],
             [
              0.1111111111111111,
              "#46039f"
             ],
             [
              0.2222222222222222,
              "#7201a8"
             ],
             [
              0.3333333333333333,
              "#9c179e"
             ],
             [
              0.4444444444444444,
              "#bd3786"
             ],
             [
              0.5555555555555556,
              "#d8576b"
             ],
             [
              0.6666666666666666,
              "#ed7953"
             ],
             [
              0.7777777777777778,
              "#fb9f3a"
             ],
             [
              0.8888888888888888,
              "#fdca26"
             ],
             [
              1,
              "#f0f921"
             ]
            ],
            "type": "surface"
           }
          ],
          "table": [
           {
            "cells": {
             "fill": {
              "color": "#EBF0F8"
             },
             "line": {
              "color": "white"
             }
            },
            "header": {
             "fill": {
              "color": "#C8D4E3"
             },
             "line": {
              "color": "white"
             }
            },
            "type": "table"
           }
          ]
         },
         "layout": {
          "annotationdefaults": {
           "arrowcolor": "#2a3f5f",
           "arrowhead": 0,
           "arrowwidth": 1
          },
          "autotypenumbers": "strict",
          "coloraxis": {
           "colorbar": {
            "outlinewidth": 0,
            "ticks": ""
           }
          },
          "colorscale": {
           "diverging": [
            [
             0,
             "#8e0152"
            ],
            [
             0.1,
             "#c51b7d"
            ],
            [
             0.2,
             "#de77ae"
            ],
            [
             0.3,
             "#f1b6da"
            ],
            [
             0.4,
             "#fde0ef"
            ],
            [
             0.5,
             "#f7f7f7"
            ],
            [
             0.6,
             "#e6f5d0"
            ],
            [
             0.7,
             "#b8e186"
            ],
            [
             0.8,
             "#7fbc41"
            ],
            [
             0.9,
             "#4d9221"
            ],
            [
             1,
             "#276419"
            ]
           ],
           "sequential": [
            [
             0,
             "#0d0887"
            ],
            [
             0.1111111111111111,
             "#46039f"
            ],
            [
             0.2222222222222222,
             "#7201a8"
            ],
            [
             0.3333333333333333,
             "#9c179e"
            ],
            [
             0.4444444444444444,
             "#bd3786"
            ],
            [
             0.5555555555555556,
             "#d8576b"
            ],
            [
             0.6666666666666666,
             "#ed7953"
            ],
            [
             0.7777777777777778,
             "#fb9f3a"
            ],
            [
             0.8888888888888888,
             "#fdca26"
            ],
            [
             1,
             "#f0f921"
            ]
           ],
           "sequentialminus": [
            [
             0,
             "#0d0887"
            ],
            [
             0.1111111111111111,
             "#46039f"
            ],
            [
             0.2222222222222222,
             "#7201a8"
            ],
            [
             0.3333333333333333,
             "#9c179e"
            ],
            [
             0.4444444444444444,
             "#bd3786"
            ],
            [
             0.5555555555555556,
             "#d8576b"
            ],
            [
             0.6666666666666666,
             "#ed7953"
            ],
            [
             0.7777777777777778,
             "#fb9f3a"
            ],
            [
             0.8888888888888888,
             "#fdca26"
            ],
            [
             1,
             "#f0f921"
            ]
           ]
          },
          "colorway": [
           "#636efa",
           "#EF553B",
           "#00cc96",
           "#ab63fa",
           "#FFA15A",
           "#19d3f3",
           "#FF6692",
           "#B6E880",
           "#FF97FF",
           "#FECB52"
          ],
          "font": {
           "color": "#2a3f5f"
          },
          "geo": {
           "bgcolor": "white",
           "lakecolor": "white",
           "landcolor": "#E5ECF6",
           "showlakes": true,
           "showland": true,
           "subunitcolor": "white"
          },
          "hoverlabel": {
           "align": "left"
          },
          "hovermode": "closest",
          "mapbox": {
           "style": "light"
          },
          "paper_bgcolor": "white",
          "plot_bgcolor": "#E5ECF6",
          "polar": {
           "angularaxis": {
            "gridcolor": "white",
            "linecolor": "white",
            "ticks": ""
           },
           "bgcolor": "#E5ECF6",
           "radialaxis": {
            "gridcolor": "white",
            "linecolor": "white",
            "ticks": ""
           }
          },
          "scene": {
           "xaxis": {
            "backgroundcolor": "#E5ECF6",
            "gridcolor": "white",
            "gridwidth": 2,
            "linecolor": "white",
            "showbackground": true,
            "ticks": "",
            "zerolinecolor": "white"
           },
           "yaxis": {
            "backgroundcolor": "#E5ECF6",
            "gridcolor": "white",
            "gridwidth": 2,
            "linecolor": "white",
            "showbackground": true,
            "ticks": "",
            "zerolinecolor": "white"
           },
           "zaxis": {
            "backgroundcolor": "#E5ECF6",
            "gridcolor": "white",
            "gridwidth": 2,
            "linecolor": "white",
            "showbackground": true,
            "ticks": "",
            "zerolinecolor": "white"
           }
          },
          "shapedefaults": {
           "line": {
            "color": "#2a3f5f"
           }
          },
          "ternary": {
           "aaxis": {
            "gridcolor": "white",
            "linecolor": "white",
            "ticks": ""
           },
           "baxis": {
            "gridcolor": "white",
            "linecolor": "white",
            "ticks": ""
           },
           "bgcolor": "#E5ECF6",
           "caxis": {
            "gridcolor": "white",
            "linecolor": "white",
            "ticks": ""
           }
          },
          "title": {
           "x": 0.05
          },
          "xaxis": {
           "automargin": true,
           "gridcolor": "white",
           "linecolor": "white",
           "ticks": "",
           "title": {
            "standoff": 15
           },
           "zerolinecolor": "white",
           "zerolinewidth": 2
          },
          "yaxis": {
           "automargin": true,
           "gridcolor": "white",
           "linecolor": "white",
           "ticks": "",
           "title": {
            "standoff": 15
           },
           "zerolinecolor": "white",
           "zerolinewidth": 2
          }
         }
        },
        "title": {
         "text": "混淆矩阵"
        },
        "xaxis": {
         "anchor": "y",
         "constrain": "domain",
         "domain": [
          0,
          1
         ],
         "scaleanchor": "y",
         "title": {
          "text": "预测类别"
         }
        },
        "yaxis": {
         "anchor": "x",
         "autorange": "reversed",
         "constrain": "domain",
         "domain": [
          0,
          1
         ],
         "scaleanchor": "x",
         "scaleratio": 1,
         "title": {
          "text": "真实类别"
         }
        }
       }
      }
     },
     "metadata": {},
     "output_type": "display_data"
    }
   ],
   "source": [
    "evaluate_predictions(test_cfg[\"output_csv\"])"
   ]
  },
  {
   "cell_type": "code",
   "execution_count": null,
   "metadata": {},
   "outputs": [],
   "source": []
  }
 ],
 "metadata": {
  "kernelspec": {
   "display_name": "python3_11c_ML",
   "language": "python",
   "name": "python3"
  },
  "language_info": {
   "codemirror_mode": {
    "name": "ipython",
    "version": 3
   },
   "file_extension": ".py",
   "mimetype": "text/x-python",
   "name": "python",
   "nbconvert_exporter": "python",
   "pygments_lexer": "ipython3",
   "version": "3.11.9"
  }
 },
 "nbformat": 4,
 "nbformat_minor": 2
}
